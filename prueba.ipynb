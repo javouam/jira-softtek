{
 "cells": [
  {
   "cell_type": "code",
   "execution_count": null,
   "metadata": {},
   "outputs": [],
   "source": []
  },
  {
   "cell_type": "code",
   "execution_count": 1,
   "metadata": {},
   "outputs": [],
   "source": [
    "import pandas as pd\n",
    "\n",
    "import numpy as np\n",
    "\n",
    "import math\n",
    "\n",
    "import datetime\n",
    "\n",
    "\n",
    "\n",
    "import plotly.express as px\n",
    "\n",
    "import plotly.graph_objects as go\n",
    "\n",
    "\n",
    "\n",
    "from datetime import timedelta\n",
    "\n",
    "from datetime import date"
   ]
  },
  {
   "cell_type": "code",
   "execution_count": 9,
   "metadata": {},
   "outputs": [],
   "source": [
    "df_sprint = pd.read_csv(\"df_sprint.csv\")"
   ]
  },
  {
   "cell_type": "code",
   "execution_count": 10,
   "metadata": {},
   "outputs": [
    {
     "data": {
      "text/html": [
       "<div>\n",
       "<style scoped>\n",
       "    .dataframe tbody tr th:only-of-type {\n",
       "        vertical-align: middle;\n",
       "    }\n",
       "\n",
       "    .dataframe tbody tr th {\n",
       "        vertical-align: top;\n",
       "    }\n",
       "\n",
       "    .dataframe thead th {\n",
       "        text-align: right;\n",
       "    }\n",
       "</style>\n",
       "<table border=\"1\" class=\"dataframe\">\n",
       "  <thead>\n",
       "    <tr style=\"text-align: right;\">\n",
       "      <th></th>\n",
       "      <th>Project_key</th>\n",
       "      <th>Board_name</th>\n",
       "      <th>Board_id</th>\n",
       "      <th>Sprint_name</th>\n",
       "      <th>Sprint_id</th>\n",
       "      <th>Issue_key</th>\n",
       "      <th>Issue_Type</th>\n",
       "      <th>Issue_Status</th>\n",
       "      <th>Issue_summary</th>\n",
       "      <th>Issue_story_points</th>\n",
       "    </tr>\n",
       "  </thead>\n",
       "  <tbody>\n",
       "    <tr>\n",
       "      <th>0</th>\n",
       "      <td>DHLCFDIIAS</td>\n",
       "      <td>DHLCFDI-IAS board</td>\n",
       "      <td>22</td>\n",
       "      <td>DHLCFDI Sprint 2</td>\n",
       "      <td>56</td>\n",
       "      <td>DHLCFDIIAS-2742</td>\n",
       "      <td>Story</td>\n",
       "      <td>Done</td>\n",
       "      <td>1.a \"Pagado o Por pagar\". After the cancellati...</td>\n",
       "      <td>5.0</td>\n",
       "    </tr>\n",
       "    <tr>\n",
       "      <th>1</th>\n",
       "      <td>DHLCFDIIAS</td>\n",
       "      <td>DHLCFDI-IAS board</td>\n",
       "      <td>22</td>\n",
       "      <td>DHLCFDI Sprint 2</td>\n",
       "      <td>56</td>\n",
       "      <td>DHLCFDIIAS-2743</td>\n",
       "      <td>Story</td>\n",
       "      <td>Done</td>\n",
       "      <td>1.b \"Pagado o Por pagar\". IAS must send the ne...</td>\n",
       "      <td>3.0</td>\n",
       "    </tr>\n",
       "    <tr>\n",
       "      <th>2</th>\n",
       "      <td>DHLCFDIIAS</td>\n",
       "      <td>DHLCFDI-IAS board</td>\n",
       "      <td>22</td>\n",
       "      <td>DHLCFDI Sprint 2</td>\n",
       "      <td>56</td>\n",
       "      <td>DHLCFDIIAS-2744</td>\n",
       "      <td>Story</td>\n",
       "      <td>In Progress</td>\n",
       "      <td>2.a \"Cliente con Crédito\". When SAP generate t...</td>\n",
       "      <td>21.0</td>\n",
       "    </tr>\n",
       "    <tr>\n",
       "      <th>3</th>\n",
       "      <td>DHLCFDIIAS</td>\n",
       "      <td>DHLCFDI-IAS board</td>\n",
       "      <td>22</td>\n",
       "      <td>DHLCFDI Sprint 2</td>\n",
       "      <td>56</td>\n",
       "      <td>DHLCFDIIAS-2789</td>\n",
       "      <td>Story</td>\n",
       "      <td>In Progress</td>\n",
       "      <td>4.a 'Cancelación de Recibo'. After the cancell...</td>\n",
       "      <td>5.0</td>\n",
       "    </tr>\n",
       "    <tr>\n",
       "      <th>4</th>\n",
       "      <td>DHLCFDIIAS</td>\n",
       "      <td>DHLCFDI-IAS board</td>\n",
       "      <td>22</td>\n",
       "      <td>DHLCFDI Sprint 2</td>\n",
       "      <td>56</td>\n",
       "      <td>DHLCFDIIAS-2790</td>\n",
       "      <td>Story</td>\n",
       "      <td>In Progress</td>\n",
       "      <td>5.a 'Pagado o Por pagar'. After the cancellati...</td>\n",
       "      <td>13.0</td>\n",
       "    </tr>\n",
       "    <tr>\n",
       "      <th>5</th>\n",
       "      <td>DHLCFDIIAS</td>\n",
       "      <td>DHLCFDI-IAS board</td>\n",
       "      <td>22</td>\n",
       "      <td>DHLCFDI Sprint 2</td>\n",
       "      <td>56</td>\n",
       "      <td>DHLCFDIIAS-2791</td>\n",
       "      <td>Story</td>\n",
       "      <td>In Progress</td>\n",
       "      <td>5.b 'Pagado o Por pagar'. IAS must send the ne...</td>\n",
       "      <td>3.0</td>\n",
       "    </tr>\n",
       "    <tr>\n",
       "      <th>6</th>\n",
       "      <td>DHLCFDIIAS</td>\n",
       "      <td>DHLCFDI-IAS board</td>\n",
       "      <td>22</td>\n",
       "      <td>DHLCFDI Sprint 2</td>\n",
       "      <td>56</td>\n",
       "      <td>DHLCFDIIAS-2745</td>\n",
       "      <td>Story</td>\n",
       "      <td>Done</td>\n",
       "      <td>3.a \"DTP\". After the cancellation and remissio...</td>\n",
       "      <td>3.0</td>\n",
       "    </tr>\n",
       "  </tbody>\n",
       "</table>\n",
       "</div>"
      ],
      "text/plain": [
       "  Project_key         Board_name  Board_id       Sprint_name  Sprint_id  \\\n",
       "0  DHLCFDIIAS  DHLCFDI-IAS board        22  DHLCFDI Sprint 2         56   \n",
       "1  DHLCFDIIAS  DHLCFDI-IAS board        22  DHLCFDI Sprint 2         56   \n",
       "2  DHLCFDIIAS  DHLCFDI-IAS board        22  DHLCFDI Sprint 2         56   \n",
       "3  DHLCFDIIAS  DHLCFDI-IAS board        22  DHLCFDI Sprint 2         56   \n",
       "4  DHLCFDIIAS  DHLCFDI-IAS board        22  DHLCFDI Sprint 2         56   \n",
       "5  DHLCFDIIAS  DHLCFDI-IAS board        22  DHLCFDI Sprint 2         56   \n",
       "6  DHLCFDIIAS  DHLCFDI-IAS board        22  DHLCFDI Sprint 2         56   \n",
       "\n",
       "         Issue_key Issue_Type Issue_Status  \\\n",
       "0  DHLCFDIIAS-2742      Story         Done   \n",
       "1  DHLCFDIIAS-2743      Story         Done   \n",
       "2  DHLCFDIIAS-2744      Story  In Progress   \n",
       "3  DHLCFDIIAS-2789      Story  In Progress   \n",
       "4  DHLCFDIIAS-2790      Story  In Progress   \n",
       "5  DHLCFDIIAS-2791      Story  In Progress   \n",
       "6  DHLCFDIIAS-2745      Story         Done   \n",
       "\n",
       "                                       Issue_summary  Issue_story_points  \n",
       "0  1.a \"Pagado o Por pagar\". After the cancellati...                 5.0  \n",
       "1  1.b \"Pagado o Por pagar\". IAS must send the ne...                 3.0  \n",
       "2  2.a \"Cliente con Crédito\". When SAP generate t...                21.0  \n",
       "3  4.a 'Cancelación de Recibo'. After the cancell...                 5.0  \n",
       "4  5.a 'Pagado o Por pagar'. After the cancellati...                13.0  \n",
       "5  5.b 'Pagado o Por pagar'. IAS must send the ne...                 3.0  \n",
       "6  3.a \"DTP\". After the cancellation and remissio...                 3.0  "
      ]
     },
     "execution_count": 10,
     "metadata": {},
     "output_type": "execute_result"
    }
   ],
   "source": [
    "df_sprint"
   ]
  },
  {
   "cell_type": "code",
   "execution_count": 11,
   "metadata": {},
   "outputs": [
    {
     "data": {
      "text/html": [
       "<div>\n",
       "<style scoped>\n",
       "    .dataframe tbody tr th:only-of-type {\n",
       "        vertical-align: middle;\n",
       "    }\n",
       "\n",
       "    .dataframe tbody tr th {\n",
       "        vertical-align: top;\n",
       "    }\n",
       "\n",
       "    .dataframe thead th {\n",
       "        text-align: right;\n",
       "    }\n",
       "</style>\n",
       "<table border=\"1\" class=\"dataframe\">\n",
       "  <thead>\n",
       "    <tr style=\"text-align: right;\">\n",
       "      <th></th>\n",
       "      <th>Project_key</th>\n",
       "      <th>Sprint_name</th>\n",
       "      <th>Issue_Status</th>\n",
       "      <th>count</th>\n",
       "    </tr>\n",
       "  </thead>\n",
       "  <tbody>\n",
       "    <tr>\n",
       "      <th>0</th>\n",
       "      <td>DHLCFDIIAS</td>\n",
       "      <td>DHLCFDI Sprint 2</td>\n",
       "      <td>Done</td>\n",
       "      <td>3</td>\n",
       "    </tr>\n",
       "    <tr>\n",
       "      <th>1</th>\n",
       "      <td>DHLCFDIIAS</td>\n",
       "      <td>DHLCFDI Sprint 2</td>\n",
       "      <td>In Progress</td>\n",
       "      <td>4</td>\n",
       "    </tr>\n",
       "  </tbody>\n",
       "</table>\n",
       "</div>"
      ],
      "text/plain": [
       "  Project_key       Sprint_name Issue_Status  count\n",
       "0  DHLCFDIIAS  DHLCFDI Sprint 2         Done      3\n",
       "1  DHLCFDIIAS  DHLCFDI Sprint 2  In Progress      4"
      ]
     },
     "execution_count": 11,
     "metadata": {},
     "output_type": "execute_result"
    }
   ],
   "source": [
    "stories_by_sprint = df_sprint.groupby([\"Project_key\",\"Sprint_name\", \"Issue_Status\"])[\"Issue_Status\"].agg(count= \"count\").reset_index()\n",
    "stories_by_sprint"
   ]
  },
  {
   "cell_type": "code",
   "execution_count": 16,
   "metadata": {},
   "outputs": [
    {
     "data": {
      "text/plain": [
       "0    11\n",
       "1    42\n",
       "Name: sum, dtype: int64"
      ]
     },
     "execution_count": 16,
     "metadata": {},
     "output_type": "execute_result"
    }
   ],
   "source": [
    "df_temp = df_sprint.groupby([\"Project_key\",\"Issue_Status\"])[\"Issue_story_points\"].agg(sum=\"sum\").reset_index().loc[:,\"sum\"].apply(int)\n",
    "df_temp"
   ]
  },
  {
   "cell_type": "code",
   "execution_count": 13,
   "metadata": {},
   "outputs": [
    {
     "data": {
      "text/html": [
       "<div>\n",
       "<style scoped>\n",
       "    .dataframe tbody tr th:only-of-type {\n",
       "        vertical-align: middle;\n",
       "    }\n",
       "\n",
       "    .dataframe tbody tr th {\n",
       "        vertical-align: top;\n",
       "    }\n",
       "\n",
       "    .dataframe thead th {\n",
       "        text-align: right;\n",
       "    }\n",
       "</style>\n",
       "<table border=\"1\" class=\"dataframe\">\n",
       "  <thead>\n",
       "    <tr style=\"text-align: right;\">\n",
       "      <th></th>\n",
       "      <th>Project_key</th>\n",
       "      <th>Sprint_name</th>\n",
       "      <th>Issue_Status</th>\n",
       "      <th>count</th>\n",
       "      <th>Story_Points</th>\n",
       "    </tr>\n",
       "  </thead>\n",
       "  <tbody>\n",
       "    <tr>\n",
       "      <th>0</th>\n",
       "      <td>DHLCFDIIAS</td>\n",
       "      <td>DHLCFDI Sprint 2</td>\n",
       "      <td>Done</td>\n",
       "      <td>3</td>\n",
       "      <td>11.0</td>\n",
       "    </tr>\n",
       "    <tr>\n",
       "      <th>1</th>\n",
       "      <td>DHLCFDIIAS</td>\n",
       "      <td>DHLCFDI Sprint 2</td>\n",
       "      <td>In Progress</td>\n",
       "      <td>4</td>\n",
       "      <td>42.0</td>\n",
       "    </tr>\n",
       "  </tbody>\n",
       "</table>\n",
       "</div>"
      ],
      "text/plain": [
       "  Project_key       Sprint_name Issue_Status  count  Story_Points\n",
       "0  DHLCFDIIAS  DHLCFDI Sprint 2         Done      3          11.0\n",
       "1  DHLCFDIIAS  DHLCFDI Sprint 2  In Progress      4          42.0"
      ]
     },
     "execution_count": 13,
     "metadata": {},
     "output_type": "execute_result"
    }
   ],
   "source": [
    "stories_by_sprint = df_sprint.groupby([\"Project_key\",\"Sprint_name\", \"Issue_Status\"])[\"Issue_Status\"].agg(count= \"count\").reset_index()\n",
    "stories_by_sprint_2=stories_by_sprint.assign(Story_Points=df_temp)\n",
    "stories_by_sprint_2"
   ]
  },
  {
   "cell_type": "code",
   "execution_count": 14,
   "metadata": {},
   "outputs": [
    {
     "data": {
      "application/vnd.plotly.v1+json": {
       "config": {
        "plotlyServerURL": "https://plot.ly"
       },
       "data": [
        {
         "domain": {
          "x": [
           0,
           1
          ],
          "y": [
           0,
           1
          ]
         },
         "hole": 0.3,
         "hovertemplate": "Issue_Status=%{label}<br>count=%{value}<extra></extra>",
         "labels": [
          "Done",
          "In Progress"
         ],
         "legendgroup": "",
         "name": "",
         "showlegend": true,
         "textinfo": "percent+label",
         "textposition": "inside",
         "type": "pie",
         "values": [
          3,
          4
         ]
        }
       ],
       "layout": {
        "legend": {
         "tracegroupgap": 0
        },
        "template": {
         "data": {
          "bar": [
           {
            "error_x": {
             "color": "#2a3f5f"
            },
            "error_y": {
             "color": "#2a3f5f"
            },
            "marker": {
             "line": {
              "color": "#E5ECF6",
              "width": 0.5
             },
             "pattern": {
              "fillmode": "overlay",
              "size": 10,
              "solidity": 0.2
             }
            },
            "type": "bar"
           }
          ],
          "barpolar": [
           {
            "marker": {
             "line": {
              "color": "#E5ECF6",
              "width": 0.5
             },
             "pattern": {
              "fillmode": "overlay",
              "size": 10,
              "solidity": 0.2
             }
            },
            "type": "barpolar"
           }
          ],
          "carpet": [
           {
            "aaxis": {
             "endlinecolor": "#2a3f5f",
             "gridcolor": "white",
             "linecolor": "white",
             "minorgridcolor": "white",
             "startlinecolor": "#2a3f5f"
            },
            "baxis": {
             "endlinecolor": "#2a3f5f",
             "gridcolor": "white",
             "linecolor": "white",
             "minorgridcolor": "white",
             "startlinecolor": "#2a3f5f"
            },
            "type": "carpet"
           }
          ],
          "choropleth": [
           {
            "colorbar": {
             "outlinewidth": 0,
             "ticks": ""
            },
            "type": "choropleth"
           }
          ],
          "contour": [
           {
            "colorbar": {
             "outlinewidth": 0,
             "ticks": ""
            },
            "colorscale": [
             [
              0,
              "#0d0887"
             ],
             [
              0.1111111111111111,
              "#46039f"
             ],
             [
              0.2222222222222222,
              "#7201a8"
             ],
             [
              0.3333333333333333,
              "#9c179e"
             ],
             [
              0.4444444444444444,
              "#bd3786"
             ],
             [
              0.5555555555555556,
              "#d8576b"
             ],
             [
              0.6666666666666666,
              "#ed7953"
             ],
             [
              0.7777777777777778,
              "#fb9f3a"
             ],
             [
              0.8888888888888888,
              "#fdca26"
             ],
             [
              1,
              "#f0f921"
             ]
            ],
            "type": "contour"
           }
          ],
          "contourcarpet": [
           {
            "colorbar": {
             "outlinewidth": 0,
             "ticks": ""
            },
            "type": "contourcarpet"
           }
          ],
          "heatmap": [
           {
            "colorbar": {
             "outlinewidth": 0,
             "ticks": ""
            },
            "colorscale": [
             [
              0,
              "#0d0887"
             ],
             [
              0.1111111111111111,
              "#46039f"
             ],
             [
              0.2222222222222222,
              "#7201a8"
             ],
             [
              0.3333333333333333,
              "#9c179e"
             ],
             [
              0.4444444444444444,
              "#bd3786"
             ],
             [
              0.5555555555555556,
              "#d8576b"
             ],
             [
              0.6666666666666666,
              "#ed7953"
             ],
             [
              0.7777777777777778,
              "#fb9f3a"
             ],
             [
              0.8888888888888888,
              "#fdca26"
             ],
             [
              1,
              "#f0f921"
             ]
            ],
            "type": "heatmap"
           }
          ],
          "heatmapgl": [
           {
            "colorbar": {
             "outlinewidth": 0,
             "ticks": ""
            },
            "colorscale": [
             [
              0,
              "#0d0887"
             ],
             [
              0.1111111111111111,
              "#46039f"
             ],
             [
              0.2222222222222222,
              "#7201a8"
             ],
             [
              0.3333333333333333,
              "#9c179e"
             ],
             [
              0.4444444444444444,
              "#bd3786"
             ],
             [
              0.5555555555555556,
              "#d8576b"
             ],
             [
              0.6666666666666666,
              "#ed7953"
             ],
             [
              0.7777777777777778,
              "#fb9f3a"
             ],
             [
              0.8888888888888888,
              "#fdca26"
             ],
             [
              1,
              "#f0f921"
             ]
            ],
            "type": "heatmapgl"
           }
          ],
          "histogram": [
           {
            "marker": {
             "pattern": {
              "fillmode": "overlay",
              "size": 10,
              "solidity": 0.2
             }
            },
            "type": "histogram"
           }
          ],
          "histogram2d": [
           {
            "colorbar": {
             "outlinewidth": 0,
             "ticks": ""
            },
            "colorscale": [
             [
              0,
              "#0d0887"
             ],
             [
              0.1111111111111111,
              "#46039f"
             ],
             [
              0.2222222222222222,
              "#7201a8"
             ],
             [
              0.3333333333333333,
              "#9c179e"
             ],
             [
              0.4444444444444444,
              "#bd3786"
             ],
             [
              0.5555555555555556,
              "#d8576b"
             ],
             [
              0.6666666666666666,
              "#ed7953"
             ],
             [
              0.7777777777777778,
              "#fb9f3a"
             ],
             [
              0.8888888888888888,
              "#fdca26"
             ],
             [
              1,
              "#f0f921"
             ]
            ],
            "type": "histogram2d"
           }
          ],
          "histogram2dcontour": [
           {
            "colorbar": {
             "outlinewidth": 0,
             "ticks": ""
            },
            "colorscale": [
             [
              0,
              "#0d0887"
             ],
             [
              0.1111111111111111,
              "#46039f"
             ],
             [
              0.2222222222222222,
              "#7201a8"
             ],
             [
              0.3333333333333333,
              "#9c179e"
             ],
             [
              0.4444444444444444,
              "#bd3786"
             ],
             [
              0.5555555555555556,
              "#d8576b"
             ],
             [
              0.6666666666666666,
              "#ed7953"
             ],
             [
              0.7777777777777778,
              "#fb9f3a"
             ],
             [
              0.8888888888888888,
              "#fdca26"
             ],
             [
              1,
              "#f0f921"
             ]
            ],
            "type": "histogram2dcontour"
           }
          ],
          "mesh3d": [
           {
            "colorbar": {
             "outlinewidth": 0,
             "ticks": ""
            },
            "type": "mesh3d"
           }
          ],
          "parcoords": [
           {
            "line": {
             "colorbar": {
              "outlinewidth": 0,
              "ticks": ""
             }
            },
            "type": "parcoords"
           }
          ],
          "pie": [
           {
            "automargin": true,
            "type": "pie"
           }
          ],
          "scatter": [
           {
            "marker": {
             "colorbar": {
              "outlinewidth": 0,
              "ticks": ""
             }
            },
            "type": "scatter"
           }
          ],
          "scatter3d": [
           {
            "line": {
             "colorbar": {
              "outlinewidth": 0,
              "ticks": ""
             }
            },
            "marker": {
             "colorbar": {
              "outlinewidth": 0,
              "ticks": ""
             }
            },
            "type": "scatter3d"
           }
          ],
          "scattercarpet": [
           {
            "marker": {
             "colorbar": {
              "outlinewidth": 0,
              "ticks": ""
             }
            },
            "type": "scattercarpet"
           }
          ],
          "scattergeo": [
           {
            "marker": {
             "colorbar": {
              "outlinewidth": 0,
              "ticks": ""
             }
            },
            "type": "scattergeo"
           }
          ],
          "scattergl": [
           {
            "marker": {
             "colorbar": {
              "outlinewidth": 0,
              "ticks": ""
             }
            },
            "type": "scattergl"
           }
          ],
          "scattermapbox": [
           {
            "marker": {
             "colorbar": {
              "outlinewidth": 0,
              "ticks": ""
             }
            },
            "type": "scattermapbox"
           }
          ],
          "scatterpolar": [
           {
            "marker": {
             "colorbar": {
              "outlinewidth": 0,
              "ticks": ""
             }
            },
            "type": "scatterpolar"
           }
          ],
          "scatterpolargl": [
           {
            "marker": {
             "colorbar": {
              "outlinewidth": 0,
              "ticks": ""
             }
            },
            "type": "scatterpolargl"
           }
          ],
          "scatterternary": [
           {
            "marker": {
             "colorbar": {
              "outlinewidth": 0,
              "ticks": ""
             }
            },
            "type": "scatterternary"
           }
          ],
          "surface": [
           {
            "colorbar": {
             "outlinewidth": 0,
             "ticks": ""
            },
            "colorscale": [
             [
              0,
              "#0d0887"
             ],
             [
              0.1111111111111111,
              "#46039f"
             ],
             [
              0.2222222222222222,
              "#7201a8"
             ],
             [
              0.3333333333333333,
              "#9c179e"
             ],
             [
              0.4444444444444444,
              "#bd3786"
             ],
             [
              0.5555555555555556,
              "#d8576b"
             ],
             [
              0.6666666666666666,
              "#ed7953"
             ],
             [
              0.7777777777777778,
              "#fb9f3a"
             ],
             [
              0.8888888888888888,
              "#fdca26"
             ],
             [
              1,
              "#f0f921"
             ]
            ],
            "type": "surface"
           }
          ],
          "table": [
           {
            "cells": {
             "fill": {
              "color": "#EBF0F8"
             },
             "line": {
              "color": "white"
             }
            },
            "header": {
             "fill": {
              "color": "#C8D4E3"
             },
             "line": {
              "color": "white"
             }
            },
            "type": "table"
           }
          ]
         },
         "layout": {
          "annotationdefaults": {
           "arrowcolor": "#2a3f5f",
           "arrowhead": 0,
           "arrowwidth": 1
          },
          "autotypenumbers": "strict",
          "coloraxis": {
           "colorbar": {
            "outlinewidth": 0,
            "ticks": ""
           }
          },
          "colorscale": {
           "diverging": [
            [
             0,
             "#8e0152"
            ],
            [
             0.1,
             "#c51b7d"
            ],
            [
             0.2,
             "#de77ae"
            ],
            [
             0.3,
             "#f1b6da"
            ],
            [
             0.4,
             "#fde0ef"
            ],
            [
             0.5,
             "#f7f7f7"
            ],
            [
             0.6,
             "#e6f5d0"
            ],
            [
             0.7,
             "#b8e186"
            ],
            [
             0.8,
             "#7fbc41"
            ],
            [
             0.9,
             "#4d9221"
            ],
            [
             1,
             "#276419"
            ]
           ],
           "sequential": [
            [
             0,
             "#0d0887"
            ],
            [
             0.1111111111111111,
             "#46039f"
            ],
            [
             0.2222222222222222,
             "#7201a8"
            ],
            [
             0.3333333333333333,
             "#9c179e"
            ],
            [
             0.4444444444444444,
             "#bd3786"
            ],
            [
             0.5555555555555556,
             "#d8576b"
            ],
            [
             0.6666666666666666,
             "#ed7953"
            ],
            [
             0.7777777777777778,
             "#fb9f3a"
            ],
            [
             0.8888888888888888,
             "#fdca26"
            ],
            [
             1,
             "#f0f921"
            ]
           ],
           "sequentialminus": [
            [
             0,
             "#0d0887"
            ],
            [
             0.1111111111111111,
             "#46039f"
            ],
            [
             0.2222222222222222,
             "#7201a8"
            ],
            [
             0.3333333333333333,
             "#9c179e"
            ],
            [
             0.4444444444444444,
             "#bd3786"
            ],
            [
             0.5555555555555556,
             "#d8576b"
            ],
            [
             0.6666666666666666,
             "#ed7953"
            ],
            [
             0.7777777777777778,
             "#fb9f3a"
            ],
            [
             0.8888888888888888,
             "#fdca26"
            ],
            [
             1,
             "#f0f921"
            ]
           ]
          },
          "colorway": [
           "#636efa",
           "#EF553B",
           "#00cc96",
           "#ab63fa",
           "#FFA15A",
           "#19d3f3",
           "#FF6692",
           "#B6E880",
           "#FF97FF",
           "#FECB52"
          ],
          "font": {
           "color": "#2a3f5f"
          },
          "geo": {
           "bgcolor": "white",
           "lakecolor": "white",
           "landcolor": "#E5ECF6",
           "showlakes": true,
           "showland": true,
           "subunitcolor": "white"
          },
          "hoverlabel": {
           "align": "left"
          },
          "hovermode": "closest",
          "mapbox": {
           "style": "light"
          },
          "paper_bgcolor": "white",
          "plot_bgcolor": "#E5ECF6",
          "polar": {
           "angularaxis": {
            "gridcolor": "white",
            "linecolor": "white",
            "ticks": ""
           },
           "bgcolor": "#E5ECF6",
           "radialaxis": {
            "gridcolor": "white",
            "linecolor": "white",
            "ticks": ""
           }
          },
          "scene": {
           "xaxis": {
            "backgroundcolor": "#E5ECF6",
            "gridcolor": "white",
            "gridwidth": 2,
            "linecolor": "white",
            "showbackground": true,
            "ticks": "",
            "zerolinecolor": "white"
           },
           "yaxis": {
            "backgroundcolor": "#E5ECF6",
            "gridcolor": "white",
            "gridwidth": 2,
            "linecolor": "white",
            "showbackground": true,
            "ticks": "",
            "zerolinecolor": "white"
           },
           "zaxis": {
            "backgroundcolor": "#E5ECF6",
            "gridcolor": "white",
            "gridwidth": 2,
            "linecolor": "white",
            "showbackground": true,
            "ticks": "",
            "zerolinecolor": "white"
           }
          },
          "shapedefaults": {
           "line": {
            "color": "#2a3f5f"
           }
          },
          "ternary": {
           "aaxis": {
            "gridcolor": "white",
            "linecolor": "white",
            "ticks": ""
           },
           "baxis": {
            "gridcolor": "white",
            "linecolor": "white",
            "ticks": ""
           },
           "bgcolor": "#E5ECF6",
           "caxis": {
            "gridcolor": "white",
            "linecolor": "white",
            "ticks": ""
           }
          },
          "title": {
           "x": 0.05
          },
          "xaxis": {
           "automargin": true,
           "gridcolor": "white",
           "linecolor": "white",
           "ticks": "",
           "title": {
            "standoff": 15
           },
           "zerolinecolor": "white",
           "zerolinewidth": 2
          },
          "yaxis": {
           "automargin": true,
           "gridcolor": "white",
           "linecolor": "white",
           "ticks": "",
           "title": {
            "standoff": 15
           },
           "zerolinecolor": "white",
           "zerolinewidth": 2
          }
         }
        },
        "title": {
         "text": "Avance del Sprint"
        }
       }
      }
     },
     "metadata": {},
     "output_type": "display_data"
    }
   ],
   "source": [
    "fig = px.pie(stories_by_sprint, values='count',\n",
    "                 names='Issue_Status', title='Avance del Sprint', hole=0.3)\n",
    "fig.update_traces(textposition='inside', textinfo='percent+label')\n",
    "fig.show()\n"
   ]
  },
  {
   "cell_type": "code",
   "execution_count": 9,
   "metadata": {},
   "outputs": [
    {
     "data": {
      "text/html": [
       "<div>\n",
       "<style scoped>\n",
       "    .dataframe tbody tr th:only-of-type {\n",
       "        vertical-align: middle;\n",
       "    }\n",
       "\n",
       "    .dataframe tbody tr th {\n",
       "        vertical-align: top;\n",
       "    }\n",
       "\n",
       "    .dataframe thead th {\n",
       "        text-align: right;\n",
       "    }\n",
       "</style>\n",
       "<table border=\"1\" class=\"dataframe\">\n",
       "  <thead>\n",
       "    <tr style=\"text-align: right;\">\n",
       "      <th></th>\n",
       "      <th>Project</th>\n",
       "      <th>Key</th>\n",
       "      <th>Sprint_Name</th>\n",
       "      <th>Status</th>\n",
       "      <th>Defect_Type</th>\n",
       "      <th>Detection_Phase</th>\n",
       "      <th>Injection_Phase</th>\n",
       "    </tr>\n",
       "  </thead>\n",
       "  <tbody>\n",
       "    <tr>\n",
       "      <th>0</th>\n",
       "      <td>DHL-CFDI4.0-AP</td>\n",
       "      <td>DHLCFDIAP-163</td>\n",
       "      <td>DHLCFDI- AP Portal Sprint 2</td>\n",
       "      <td>Done</td>\n",
       "      <td>Security</td>\n",
       "      <td>Testing</td>\n",
       "      <td>Coding</td>\n",
       "    </tr>\n",
       "    <tr>\n",
       "      <th>1</th>\n",
       "      <td>DHL-CFDI4.0-AP</td>\n",
       "      <td>DHLCFDIAP-162</td>\n",
       "      <td>DHLCFDI- AP Portal Sprint 2</td>\n",
       "      <td>Done</td>\n",
       "      <td>Functionality</td>\n",
       "      <td>Testing</td>\n",
       "      <td>Coding</td>\n",
       "    </tr>\n",
       "    <tr>\n",
       "      <th>2</th>\n",
       "      <td>DHL-CFDI4.0-AP</td>\n",
       "      <td>DHLCFDIAP-161</td>\n",
       "      <td>DHLCFDI- AP Portal Sprint 2</td>\n",
       "      <td>Done</td>\n",
       "      <td>Security</td>\n",
       "      <td>Testing</td>\n",
       "      <td>Coding</td>\n",
       "    </tr>\n",
       "    <tr>\n",
       "      <th>3</th>\n",
       "      <td>DHL-CFDI4.0-AP</td>\n",
       "      <td>DHLCFDIAP-160</td>\n",
       "      <td>DHLCFDI- AP Portal Sprint 2</td>\n",
       "      <td>Done</td>\n",
       "      <td>Security</td>\n",
       "      <td>Testing</td>\n",
       "      <td>Coding</td>\n",
       "    </tr>\n",
       "    <tr>\n",
       "      <th>4</th>\n",
       "      <td>DHL-CFDI4.0-AP</td>\n",
       "      <td>DHLCFDIAP-159</td>\n",
       "      <td>DHLCFDI- AP Portal Sprint 2</td>\n",
       "      <td>Done</td>\n",
       "      <td>Testability</td>\n",
       "      <td>Testing</td>\n",
       "      <td>Coding</td>\n",
       "    </tr>\n",
       "    <tr>\n",
       "      <th>5</th>\n",
       "      <td>DHL-CFDI4.0-AP</td>\n",
       "      <td>DHLCFDIAP-158</td>\n",
       "      <td>DHLCFDI- AP Portal Sprint 2</td>\n",
       "      <td>Done</td>\n",
       "      <td>Testability</td>\n",
       "      <td>Testing</td>\n",
       "      <td>Coding</td>\n",
       "    </tr>\n",
       "    <tr>\n",
       "      <th>6</th>\n",
       "      <td>DHL-CFDI4.0-AP</td>\n",
       "      <td>DHLCFDIAP-157</td>\n",
       "      <td>DHLCFDI- AP Portal Sprint 2</td>\n",
       "      <td>Done</td>\n",
       "      <td>Testability</td>\n",
       "      <td>Testing</td>\n",
       "      <td>Coding</td>\n",
       "    </tr>\n",
       "    <tr>\n",
       "      <th>7</th>\n",
       "      <td>DHL-CFDI4.0-AP</td>\n",
       "      <td>DHLCFDIAP-156</td>\n",
       "      <td>DHLCFDI- AP Portal Sprint 2</td>\n",
       "      <td>Done</td>\n",
       "      <td>Testability</td>\n",
       "      <td>Testing</td>\n",
       "      <td>Coding</td>\n",
       "    </tr>\n",
       "    <tr>\n",
       "      <th>8</th>\n",
       "      <td>DHL-CFDI4.0-AP</td>\n",
       "      <td>DHLCFDIAP-154</td>\n",
       "      <td>DHLCFDI- AP Portal Sprint 2</td>\n",
       "      <td>Done</td>\n",
       "      <td>Testability</td>\n",
       "      <td>Testing</td>\n",
       "      <td>Coding</td>\n",
       "    </tr>\n",
       "    <tr>\n",
       "      <th>9</th>\n",
       "      <td>DHL-CFDI4.0-AP</td>\n",
       "      <td>DHLCFDIAP-151</td>\n",
       "      <td>DHLCFDI- AP Portal Sprint 2</td>\n",
       "      <td>Done</td>\n",
       "      <td>Functionality</td>\n",
       "      <td>Testing</td>\n",
       "      <td>Coding</td>\n",
       "    </tr>\n",
       "    <tr>\n",
       "      <th>10</th>\n",
       "      <td>DHL-CFDI4.0-AP</td>\n",
       "      <td>DHLCFDIAP-96</td>\n",
       "      <td>DHLCFDI- Sprint 1</td>\n",
       "      <td>Done</td>\n",
       "      <td>Functionality</td>\n",
       "      <td>Testing</td>\n",
       "      <td>Coding</td>\n",
       "    </tr>\n",
       "    <tr>\n",
       "      <th>11</th>\n",
       "      <td>DHL-CFDI4.0-AP</td>\n",
       "      <td>DHLCFDIAP-95</td>\n",
       "      <td>DHLCFDI- Sprint 1</td>\n",
       "      <td>Done</td>\n",
       "      <td>Functionality</td>\n",
       "      <td>Testing</td>\n",
       "      <td>Coding</td>\n",
       "    </tr>\n",
       "    <tr>\n",
       "      <th>12</th>\n",
       "      <td>DHL-CFDI4.0-AP</td>\n",
       "      <td>DHLCFDIAP-94</td>\n",
       "      <td>DHLCFDI- Sprint 1</td>\n",
       "      <td>Done</td>\n",
       "      <td>Functionality</td>\n",
       "      <td>Testing</td>\n",
       "      <td>Coding</td>\n",
       "    </tr>\n",
       "    <tr>\n",
       "      <th>13</th>\n",
       "      <td>DHL-CFDI4.0-AP</td>\n",
       "      <td>DHLCFDIAP-90</td>\n",
       "      <td>DHLCFDI- Sprint 1</td>\n",
       "      <td>Done</td>\n",
       "      <td>Functionality</td>\n",
       "      <td>Testing</td>\n",
       "      <td>Coding</td>\n",
       "    </tr>\n",
       "    <tr>\n",
       "      <th>14</th>\n",
       "      <td>DHL-CFDI4.0-AP</td>\n",
       "      <td>DHLCFDIAP-89</td>\n",
       "      <td>DHLCFDI- Sprint 1</td>\n",
       "      <td>Done</td>\n",
       "      <td>Functionality</td>\n",
       "      <td>Testing</td>\n",
       "      <td>Coding</td>\n",
       "    </tr>\n",
       "    <tr>\n",
       "      <th>15</th>\n",
       "      <td>DHL-CFDI4.0-AP</td>\n",
       "      <td>DHLCFDIAP-88</td>\n",
       "      <td>DHLCFDI- Sprint 1</td>\n",
       "      <td>Done</td>\n",
       "      <td>Functionality</td>\n",
       "      <td>Testing</td>\n",
       "      <td>Coding</td>\n",
       "    </tr>\n",
       "    <tr>\n",
       "      <th>16</th>\n",
       "      <td>DHL-CFDI4.0-AP</td>\n",
       "      <td>DHLCFDIAP-84</td>\n",
       "      <td>DHLCFDI- Sprint 1</td>\n",
       "      <td>Done</td>\n",
       "      <td>Functionality</td>\n",
       "      <td>Testing</td>\n",
       "      <td>Coding</td>\n",
       "    </tr>\n",
       "    <tr>\n",
       "      <th>17</th>\n",
       "      <td>DHL-CFDI4.0-AP</td>\n",
       "      <td>DHLCFDIAP-83</td>\n",
       "      <td>DHLCFDI- Sprint 1</td>\n",
       "      <td>Done</td>\n",
       "      <td>Functionality</td>\n",
       "      <td>Testing</td>\n",
       "      <td>Coding</td>\n",
       "    </tr>\n",
       "    <tr>\n",
       "      <th>18</th>\n",
       "      <td>DHL-CFDI4.0-AP</td>\n",
       "      <td>DHLCFDIAP-81</td>\n",
       "      <td>DHLCFDI- Sprint 1</td>\n",
       "      <td>Done</td>\n",
       "      <td>Functionality</td>\n",
       "      <td>Testing</td>\n",
       "      <td>Coding</td>\n",
       "    </tr>\n",
       "  </tbody>\n",
       "</table>\n",
       "</div>"
      ],
      "text/plain": [
       "           Project            Key                  Sprint_Name Status  \\\n",
       "0   DHL-CFDI4.0-AP  DHLCFDIAP-163  DHLCFDI- AP Portal Sprint 2   Done   \n",
       "1   DHL-CFDI4.0-AP  DHLCFDIAP-162  DHLCFDI- AP Portal Sprint 2   Done   \n",
       "2   DHL-CFDI4.0-AP  DHLCFDIAP-161  DHLCFDI- AP Portal Sprint 2   Done   \n",
       "3   DHL-CFDI4.0-AP  DHLCFDIAP-160  DHLCFDI- AP Portal Sprint 2   Done   \n",
       "4   DHL-CFDI4.0-AP  DHLCFDIAP-159  DHLCFDI- AP Portal Sprint 2   Done   \n",
       "5   DHL-CFDI4.0-AP  DHLCFDIAP-158  DHLCFDI- AP Portal Sprint 2   Done   \n",
       "6   DHL-CFDI4.0-AP  DHLCFDIAP-157  DHLCFDI- AP Portal Sprint 2   Done   \n",
       "7   DHL-CFDI4.0-AP  DHLCFDIAP-156  DHLCFDI- AP Portal Sprint 2   Done   \n",
       "8   DHL-CFDI4.0-AP  DHLCFDIAP-154  DHLCFDI- AP Portal Sprint 2   Done   \n",
       "9   DHL-CFDI4.0-AP  DHLCFDIAP-151  DHLCFDI- AP Portal Sprint 2   Done   \n",
       "10  DHL-CFDI4.0-AP   DHLCFDIAP-96            DHLCFDI- Sprint 1   Done   \n",
       "11  DHL-CFDI4.0-AP   DHLCFDIAP-95            DHLCFDI- Sprint 1   Done   \n",
       "12  DHL-CFDI4.0-AP   DHLCFDIAP-94            DHLCFDI- Sprint 1   Done   \n",
       "13  DHL-CFDI4.0-AP   DHLCFDIAP-90            DHLCFDI- Sprint 1   Done   \n",
       "14  DHL-CFDI4.0-AP   DHLCFDIAP-89            DHLCFDI- Sprint 1   Done   \n",
       "15  DHL-CFDI4.0-AP   DHLCFDIAP-88            DHLCFDI- Sprint 1   Done   \n",
       "16  DHL-CFDI4.0-AP   DHLCFDIAP-84            DHLCFDI- Sprint 1   Done   \n",
       "17  DHL-CFDI4.0-AP   DHLCFDIAP-83            DHLCFDI- Sprint 1   Done   \n",
       "18  DHL-CFDI4.0-AP   DHLCFDIAP-81            DHLCFDI- Sprint 1   Done   \n",
       "\n",
       "      Defect_Type Detection_Phase Injection_Phase  \n",
       "0        Security         Testing          Coding  \n",
       "1   Functionality         Testing          Coding  \n",
       "2        Security         Testing          Coding  \n",
       "3        Security         Testing          Coding  \n",
       "4     Testability         Testing          Coding  \n",
       "5     Testability         Testing          Coding  \n",
       "6     Testability         Testing          Coding  \n",
       "7     Testability         Testing          Coding  \n",
       "8     Testability         Testing          Coding  \n",
       "9   Functionality         Testing          Coding  \n",
       "10  Functionality         Testing          Coding  \n",
       "11  Functionality         Testing          Coding  \n",
       "12  Functionality         Testing          Coding  \n",
       "13  Functionality         Testing          Coding  \n",
       "14  Functionality         Testing          Coding  \n",
       "15  Functionality         Testing          Coding  \n",
       "16  Functionality         Testing          Coding  \n",
       "17  Functionality         Testing          Coding  \n",
       "18  Functionality         Testing          Coding  "
      ]
     },
     "execution_count": 9,
     "metadata": {},
     "output_type": "execute_result"
    }
   ],
   "source": [
    "df_all_bugs = pd.read_csv(\"df_all_bugs.csv\")\n",
    "df_all_bugs"
   ]
  },
  {
   "cell_type": "code",
   "execution_count": 22,
   "metadata": {},
   "outputs": [
    {
     "data": {
      "text/html": [
       "<div>\n",
       "<style scoped>\n",
       "    .dataframe tbody tr th:only-of-type {\n",
       "        vertical-align: middle;\n",
       "    }\n",
       "\n",
       "    .dataframe tbody tr th {\n",
       "        vertical-align: top;\n",
       "    }\n",
       "\n",
       "    .dataframe thead th {\n",
       "        text-align: right;\n",
       "    }\n",
       "</style>\n",
       "<table border=\"1\" class=\"dataframe\">\n",
       "  <thead>\n",
       "    <tr style=\"text-align: right;\">\n",
       "      <th></th>\n",
       "      <th>Project</th>\n",
       "      <th>Sprint_Name</th>\n",
       "      <th>Status</th>\n",
       "      <th>count</th>\n",
       "    </tr>\n",
       "  </thead>\n",
       "  <tbody>\n",
       "    <tr>\n",
       "      <th>0</th>\n",
       "      <td>DHL-CFDI4.0-IAS</td>\n",
       "      <td>Sprint 1</td>\n",
       "      <td>Done</td>\n",
       "      <td>1</td>\n",
       "    </tr>\n",
       "    <tr>\n",
       "      <th>1</th>\n",
       "      <td>DHL-CFDI4.0-IAS</td>\n",
       "      <td>Sprint 1</td>\n",
       "      <td>In Progress</td>\n",
       "      <td>1</td>\n",
       "    </tr>\n",
       "    <tr>\n",
       "      <th>2</th>\n",
       "      <td>DHL-CFDI4.0-IAS</td>\n",
       "      <td>Sprint 1</td>\n",
       "      <td>To Do</td>\n",
       "      <td>2</td>\n",
       "    </tr>\n",
       "    <tr>\n",
       "      <th>3</th>\n",
       "      <td>DHL-CFDI4.0-IAS</td>\n",
       "      <td>Sprint 2</td>\n",
       "      <td>In Progress</td>\n",
       "      <td>1</td>\n",
       "    </tr>\n",
       "    <tr>\n",
       "      <th>4</th>\n",
       "      <td>DHL-CFDI4.0-IAS</td>\n",
       "      <td>Sprint 2</td>\n",
       "      <td>To Do</td>\n",
       "      <td>1</td>\n",
       "    </tr>\n",
       "  </tbody>\n",
       "</table>\n",
       "</div>"
      ],
      "text/plain": [
       "           Project Sprint_Name       Status  count\n",
       "0  DHL-CFDI4.0-IAS    Sprint 1         Done      1\n",
       "1  DHL-CFDI4.0-IAS    Sprint 1  In Progress      1\n",
       "2  DHL-CFDI4.0-IAS    Sprint 1        To Do      2\n",
       "3  DHL-CFDI4.0-IAS    Sprint 2  In Progress      1\n",
       "4  DHL-CFDI4.0-IAS    Sprint 2        To Do      1"
      ]
     },
     "execution_count": 22,
     "metadata": {},
     "output_type": "execute_result"
    }
   ],
   "source": [
    "bugs_by_sprint = df_all_bugs.groupby([\"Project\",\"Sprint_Name\", \"Status\"])[\"Status\"].agg(count= \"count\").reset_index()\n",
    "bugs_by_sprint"
   ]
  },
  {
   "cell_type": "code",
   "execution_count": 26,
   "metadata": {},
   "outputs": [
    {
     "data": {
      "application/vnd.plotly.v1+json": {
       "config": {
        "plotlyServerURL": "https://plot.ly"
       },
       "data": [
        {
         "alignmentgroup": "True",
         "hovertemplate": "Status=Done<br>Sprint_Name=%{x}<br>count=%{text}<extra></extra>",
         "legendgroup": "Done",
         "marker": {
          "color": "#636efa",
          "pattern": {
           "shape": ""
          }
         },
         "name": "Done",
         "offsetgroup": "Done",
         "orientation": "v",
         "showlegend": true,
         "text": [
          1
         ],
         "textposition": "auto",
         "type": "bar",
         "x": [
          "Sprint 1"
         ],
         "xaxis": "x",
         "y": [
          1
         ],
         "yaxis": "y"
        },
        {
         "alignmentgroup": "True",
         "hovertemplate": "Status=In Progress<br>Sprint_Name=%{x}<br>count=%{text}<extra></extra>",
         "legendgroup": "In Progress",
         "marker": {
          "color": "#EF553B",
          "pattern": {
           "shape": ""
          }
         },
         "name": "In Progress",
         "offsetgroup": "In Progress",
         "orientation": "v",
         "showlegend": true,
         "text": [
          1,
          1
         ],
         "textposition": "auto",
         "type": "bar",
         "x": [
          "Sprint 1",
          "Sprint 2"
         ],
         "xaxis": "x",
         "y": [
          1,
          1
         ],
         "yaxis": "y"
        },
        {
         "alignmentgroup": "True",
         "hovertemplate": "Status=To Do<br>Sprint_Name=%{x}<br>count=%{text}<extra></extra>",
         "legendgroup": "To Do",
         "marker": {
          "color": "#00cc96",
          "pattern": {
           "shape": ""
          }
         },
         "name": "To Do",
         "offsetgroup": "To Do",
         "orientation": "v",
         "showlegend": true,
         "text": [
          2,
          1
         ],
         "textposition": "auto",
         "type": "bar",
         "x": [
          "Sprint 1",
          "Sprint 2"
         ],
         "xaxis": "x",
         "y": [
          2,
          1
         ],
         "yaxis": "y"
        }
       ],
       "layout": {
        "barmode": "relative",
        "legend": {
         "title": {
          "text": "Status"
         },
         "tracegroupgap": 0
        },
        "template": {
         "data": {
          "bar": [
           {
            "error_x": {
             "color": "#2a3f5f"
            },
            "error_y": {
             "color": "#2a3f5f"
            },
            "marker": {
             "line": {
              "color": "#E5ECF6",
              "width": 0.5
             },
             "pattern": {
              "fillmode": "overlay",
              "size": 10,
              "solidity": 0.2
             }
            },
            "type": "bar"
           }
          ],
          "barpolar": [
           {
            "marker": {
             "line": {
              "color": "#E5ECF6",
              "width": 0.5
             },
             "pattern": {
              "fillmode": "overlay",
              "size": 10,
              "solidity": 0.2
             }
            },
            "type": "barpolar"
           }
          ],
          "carpet": [
           {
            "aaxis": {
             "endlinecolor": "#2a3f5f",
             "gridcolor": "white",
             "linecolor": "white",
             "minorgridcolor": "white",
             "startlinecolor": "#2a3f5f"
            },
            "baxis": {
             "endlinecolor": "#2a3f5f",
             "gridcolor": "white",
             "linecolor": "white",
             "minorgridcolor": "white",
             "startlinecolor": "#2a3f5f"
            },
            "type": "carpet"
           }
          ],
          "choropleth": [
           {
            "colorbar": {
             "outlinewidth": 0,
             "ticks": ""
            },
            "type": "choropleth"
           }
          ],
          "contour": [
           {
            "colorbar": {
             "outlinewidth": 0,
             "ticks": ""
            },
            "colorscale": [
             [
              0,
              "#0d0887"
             ],
             [
              0.1111111111111111,
              "#46039f"
             ],
             [
              0.2222222222222222,
              "#7201a8"
             ],
             [
              0.3333333333333333,
              "#9c179e"
             ],
             [
              0.4444444444444444,
              "#bd3786"
             ],
             [
              0.5555555555555556,
              "#d8576b"
             ],
             [
              0.6666666666666666,
              "#ed7953"
             ],
             [
              0.7777777777777778,
              "#fb9f3a"
             ],
             [
              0.8888888888888888,
              "#fdca26"
             ],
             [
              1,
              "#f0f921"
             ]
            ],
            "type": "contour"
           }
          ],
          "contourcarpet": [
           {
            "colorbar": {
             "outlinewidth": 0,
             "ticks": ""
            },
            "type": "contourcarpet"
           }
          ],
          "heatmap": [
           {
            "colorbar": {
             "outlinewidth": 0,
             "ticks": ""
            },
            "colorscale": [
             [
              0,
              "#0d0887"
             ],
             [
              0.1111111111111111,
              "#46039f"
             ],
             [
              0.2222222222222222,
              "#7201a8"
             ],
             [
              0.3333333333333333,
              "#9c179e"
             ],
             [
              0.4444444444444444,
              "#bd3786"
             ],
             [
              0.5555555555555556,
              "#d8576b"
             ],
             [
              0.6666666666666666,
              "#ed7953"
             ],
             [
              0.7777777777777778,
              "#fb9f3a"
             ],
             [
              0.8888888888888888,
              "#fdca26"
             ],
             [
              1,
              "#f0f921"
             ]
            ],
            "type": "heatmap"
           }
          ],
          "heatmapgl": [
           {
            "colorbar": {
             "outlinewidth": 0,
             "ticks": ""
            },
            "colorscale": [
             [
              0,
              "#0d0887"
             ],
             [
              0.1111111111111111,
              "#46039f"
             ],
             [
              0.2222222222222222,
              "#7201a8"
             ],
             [
              0.3333333333333333,
              "#9c179e"
             ],
             [
              0.4444444444444444,
              "#bd3786"
             ],
             [
              0.5555555555555556,
              "#d8576b"
             ],
             [
              0.6666666666666666,
              "#ed7953"
             ],
             [
              0.7777777777777778,
              "#fb9f3a"
             ],
             [
              0.8888888888888888,
              "#fdca26"
             ],
             [
              1,
              "#f0f921"
             ]
            ],
            "type": "heatmapgl"
           }
          ],
          "histogram": [
           {
            "marker": {
             "pattern": {
              "fillmode": "overlay",
              "size": 10,
              "solidity": 0.2
             }
            },
            "type": "histogram"
           }
          ],
          "histogram2d": [
           {
            "colorbar": {
             "outlinewidth": 0,
             "ticks": ""
            },
            "colorscale": [
             [
              0,
              "#0d0887"
             ],
             [
              0.1111111111111111,
              "#46039f"
             ],
             [
              0.2222222222222222,
              "#7201a8"
             ],
             [
              0.3333333333333333,
              "#9c179e"
             ],
             [
              0.4444444444444444,
              "#bd3786"
             ],
             [
              0.5555555555555556,
              "#d8576b"
             ],
             [
              0.6666666666666666,
              "#ed7953"
             ],
             [
              0.7777777777777778,
              "#fb9f3a"
             ],
             [
              0.8888888888888888,
              "#fdca26"
             ],
             [
              1,
              "#f0f921"
             ]
            ],
            "type": "histogram2d"
           }
          ],
          "histogram2dcontour": [
           {
            "colorbar": {
             "outlinewidth": 0,
             "ticks": ""
            },
            "colorscale": [
             [
              0,
              "#0d0887"
             ],
             [
              0.1111111111111111,
              "#46039f"
             ],
             [
              0.2222222222222222,
              "#7201a8"
             ],
             [
              0.3333333333333333,
              "#9c179e"
             ],
             [
              0.4444444444444444,
              "#bd3786"
             ],
             [
              0.5555555555555556,
              "#d8576b"
             ],
             [
              0.6666666666666666,
              "#ed7953"
             ],
             [
              0.7777777777777778,
              "#fb9f3a"
             ],
             [
              0.8888888888888888,
              "#fdca26"
             ],
             [
              1,
              "#f0f921"
             ]
            ],
            "type": "histogram2dcontour"
           }
          ],
          "mesh3d": [
           {
            "colorbar": {
             "outlinewidth": 0,
             "ticks": ""
            },
            "type": "mesh3d"
           }
          ],
          "parcoords": [
           {
            "line": {
             "colorbar": {
              "outlinewidth": 0,
              "ticks": ""
             }
            },
            "type": "parcoords"
           }
          ],
          "pie": [
           {
            "automargin": true,
            "type": "pie"
           }
          ],
          "scatter": [
           {
            "marker": {
             "colorbar": {
              "outlinewidth": 0,
              "ticks": ""
             }
            },
            "type": "scatter"
           }
          ],
          "scatter3d": [
           {
            "line": {
             "colorbar": {
              "outlinewidth": 0,
              "ticks": ""
             }
            },
            "marker": {
             "colorbar": {
              "outlinewidth": 0,
              "ticks": ""
             }
            },
            "type": "scatter3d"
           }
          ],
          "scattercarpet": [
           {
            "marker": {
             "colorbar": {
              "outlinewidth": 0,
              "ticks": ""
             }
            },
            "type": "scattercarpet"
           }
          ],
          "scattergeo": [
           {
            "marker": {
             "colorbar": {
              "outlinewidth": 0,
              "ticks": ""
             }
            },
            "type": "scattergeo"
           }
          ],
          "scattergl": [
           {
            "marker": {
             "colorbar": {
              "outlinewidth": 0,
              "ticks": ""
             }
            },
            "type": "scattergl"
           }
          ],
          "scattermapbox": [
           {
            "marker": {
             "colorbar": {
              "outlinewidth": 0,
              "ticks": ""
             }
            },
            "type": "scattermapbox"
           }
          ],
          "scatterpolar": [
           {
            "marker": {
             "colorbar": {
              "outlinewidth": 0,
              "ticks": ""
             }
            },
            "type": "scatterpolar"
           }
          ],
          "scatterpolargl": [
           {
            "marker": {
             "colorbar": {
              "outlinewidth": 0,
              "ticks": ""
             }
            },
            "type": "scatterpolargl"
           }
          ],
          "scatterternary": [
           {
            "marker": {
             "colorbar": {
              "outlinewidth": 0,
              "ticks": ""
             }
            },
            "type": "scatterternary"
           }
          ],
          "surface": [
           {
            "colorbar": {
             "outlinewidth": 0,
             "ticks": ""
            },
            "colorscale": [
             [
              0,
              "#0d0887"
             ],
             [
              0.1111111111111111,
              "#46039f"
             ],
             [
              0.2222222222222222,
              "#7201a8"
             ],
             [
              0.3333333333333333,
              "#9c179e"
             ],
             [
              0.4444444444444444,
              "#bd3786"
             ],
             [
              0.5555555555555556,
              "#d8576b"
             ],
             [
              0.6666666666666666,
              "#ed7953"
             ],
             [
              0.7777777777777778,
              "#fb9f3a"
             ],
             [
              0.8888888888888888,
              "#fdca26"
             ],
             [
              1,
              "#f0f921"
             ]
            ],
            "type": "surface"
           }
          ],
          "table": [
           {
            "cells": {
             "fill": {
              "color": "#EBF0F8"
             },
             "line": {
              "color": "white"
             }
            },
            "header": {
             "fill": {
              "color": "#C8D4E3"
             },
             "line": {
              "color": "white"
             }
            },
            "type": "table"
           }
          ]
         },
         "layout": {
          "annotationdefaults": {
           "arrowcolor": "#2a3f5f",
           "arrowhead": 0,
           "arrowwidth": 1
          },
          "autotypenumbers": "strict",
          "coloraxis": {
           "colorbar": {
            "outlinewidth": 0,
            "ticks": ""
           }
          },
          "colorscale": {
           "diverging": [
            [
             0,
             "#8e0152"
            ],
            [
             0.1,
             "#c51b7d"
            ],
            [
             0.2,
             "#de77ae"
            ],
            [
             0.3,
             "#f1b6da"
            ],
            [
             0.4,
             "#fde0ef"
            ],
            [
             0.5,
             "#f7f7f7"
            ],
            [
             0.6,
             "#e6f5d0"
            ],
            [
             0.7,
             "#b8e186"
            ],
            [
             0.8,
             "#7fbc41"
            ],
            [
             0.9,
             "#4d9221"
            ],
            [
             1,
             "#276419"
            ]
           ],
           "sequential": [
            [
             0,
             "#0d0887"
            ],
            [
             0.1111111111111111,
             "#46039f"
            ],
            [
             0.2222222222222222,
             "#7201a8"
            ],
            [
             0.3333333333333333,
             "#9c179e"
            ],
            [
             0.4444444444444444,
             "#bd3786"
            ],
            [
             0.5555555555555556,
             "#d8576b"
            ],
            [
             0.6666666666666666,
             "#ed7953"
            ],
            [
             0.7777777777777778,
             "#fb9f3a"
            ],
            [
             0.8888888888888888,
             "#fdca26"
            ],
            [
             1,
             "#f0f921"
            ]
           ],
           "sequentialminus": [
            [
             0,
             "#0d0887"
            ],
            [
             0.1111111111111111,
             "#46039f"
            ],
            [
             0.2222222222222222,
             "#7201a8"
            ],
            [
             0.3333333333333333,
             "#9c179e"
            ],
            [
             0.4444444444444444,
             "#bd3786"
            ],
            [
             0.5555555555555556,
             "#d8576b"
            ],
            [
             0.6666666666666666,
             "#ed7953"
            ],
            [
             0.7777777777777778,
             "#fb9f3a"
            ],
            [
             0.8888888888888888,
             "#fdca26"
            ],
            [
             1,
             "#f0f921"
            ]
           ]
          },
          "colorway": [
           "#636efa",
           "#EF553B",
           "#00cc96",
           "#ab63fa",
           "#FFA15A",
           "#19d3f3",
           "#FF6692",
           "#B6E880",
           "#FF97FF",
           "#FECB52"
          ],
          "font": {
           "color": "#2a3f5f"
          },
          "geo": {
           "bgcolor": "white",
           "lakecolor": "white",
           "landcolor": "#E5ECF6",
           "showlakes": true,
           "showland": true,
           "subunitcolor": "white"
          },
          "hoverlabel": {
           "align": "left"
          },
          "hovermode": "closest",
          "mapbox": {
           "style": "light"
          },
          "paper_bgcolor": "white",
          "plot_bgcolor": "#E5ECF6",
          "polar": {
           "angularaxis": {
            "gridcolor": "white",
            "linecolor": "white",
            "ticks": ""
           },
           "bgcolor": "#E5ECF6",
           "radialaxis": {
            "gridcolor": "white",
            "linecolor": "white",
            "ticks": ""
           }
          },
          "scene": {
           "xaxis": {
            "backgroundcolor": "#E5ECF6",
            "gridcolor": "white",
            "gridwidth": 2,
            "linecolor": "white",
            "showbackground": true,
            "ticks": "",
            "zerolinecolor": "white"
           },
           "yaxis": {
            "backgroundcolor": "#E5ECF6",
            "gridcolor": "white",
            "gridwidth": 2,
            "linecolor": "white",
            "showbackground": true,
            "ticks": "",
            "zerolinecolor": "white"
           },
           "zaxis": {
            "backgroundcolor": "#E5ECF6",
            "gridcolor": "white",
            "gridwidth": 2,
            "linecolor": "white",
            "showbackground": true,
            "ticks": "",
            "zerolinecolor": "white"
           }
          },
          "shapedefaults": {
           "line": {
            "color": "#2a3f5f"
           }
          },
          "ternary": {
           "aaxis": {
            "gridcolor": "white",
            "linecolor": "white",
            "ticks": ""
           },
           "baxis": {
            "gridcolor": "white",
            "linecolor": "white",
            "ticks": ""
           },
           "bgcolor": "#E5ECF6",
           "caxis": {
            "gridcolor": "white",
            "linecolor": "white",
            "ticks": ""
           }
          },
          "title": {
           "x": 0.05
          },
          "xaxis": {
           "automargin": true,
           "gridcolor": "white",
           "linecolor": "white",
           "ticks": "",
           "title": {
            "standoff": 15
           },
           "zerolinecolor": "white",
           "zerolinewidth": 2
          },
          "yaxis": {
           "automargin": true,
           "gridcolor": "white",
           "linecolor": "white",
           "ticks": "",
           "title": {
            "standoff": 15
           },
           "zerolinecolor": "white",
           "zerolinewidth": 2
          }
         }
        },
        "title": {
         "text": "Long-Form Input"
        },
        "xaxis": {
         "anchor": "y",
         "domain": [
          0,
          1
         ],
         "title": {
          "text": "Sprint_Name"
         }
        },
        "yaxis": {
         "anchor": "x",
         "domain": [
          0,
          1
         ],
         "title": {
          "text": "count"
         }
        }
       }
      }
     },
     "metadata": {},
     "output_type": "display_data"
    }
   ],
   "source": [
    "fig = px.bar(bugs_by_sprint, x=\"Sprint_Name\", y=\"count\",text=\"count\", color=\"Status\", title=\"Long-Form Input\")\n",
    "fig.show()"
   ]
  },
  {
   "cell_type": "code",
   "execution_count": 10,
   "metadata": {},
   "outputs": [
    {
     "data": {
      "text/html": [
       "<div>\n",
       "<style scoped>\n",
       "    .dataframe tbody tr th:only-of-type {\n",
       "        vertical-align: middle;\n",
       "    }\n",
       "\n",
       "    .dataframe tbody tr th {\n",
       "        vertical-align: top;\n",
       "    }\n",
       "\n",
       "    .dataframe thead th {\n",
       "        text-align: right;\n",
       "    }\n",
       "</style>\n",
       "<table border=\"1\" class=\"dataframe\">\n",
       "  <thead>\n",
       "    <tr style=\"text-align: right;\">\n",
       "      <th></th>\n",
       "      <th>Project</th>\n",
       "      <th>Sprint_Name</th>\n",
       "      <th>Defect_Type</th>\n",
       "      <th>count</th>\n",
       "    </tr>\n",
       "  </thead>\n",
       "  <tbody>\n",
       "    <tr>\n",
       "      <th>0</th>\n",
       "      <td>DHL-CFDI4.0-AP</td>\n",
       "      <td>DHLCFDI- AP Portal Sprint 2</td>\n",
       "      <td>Functionality</td>\n",
       "      <td>2</td>\n",
       "    </tr>\n",
       "    <tr>\n",
       "      <th>1</th>\n",
       "      <td>DHL-CFDI4.0-AP</td>\n",
       "      <td>DHLCFDI- AP Portal Sprint 2</td>\n",
       "      <td>Security</td>\n",
       "      <td>3</td>\n",
       "    </tr>\n",
       "    <tr>\n",
       "      <th>2</th>\n",
       "      <td>DHL-CFDI4.0-AP</td>\n",
       "      <td>DHLCFDI- AP Portal Sprint 2</td>\n",
       "      <td>Testability</td>\n",
       "      <td>5</td>\n",
       "    </tr>\n",
       "    <tr>\n",
       "      <th>3</th>\n",
       "      <td>DHL-CFDI4.0-AP</td>\n",
       "      <td>DHLCFDI- Sprint 1</td>\n",
       "      <td>Functionality</td>\n",
       "      <td>9</td>\n",
       "    </tr>\n",
       "  </tbody>\n",
       "</table>\n",
       "</div>"
      ],
      "text/plain": [
       "          Project                  Sprint_Name    Defect_Type  count\n",
       "0  DHL-CFDI4.0-AP  DHLCFDI- AP Portal Sprint 2  Functionality      2\n",
       "1  DHL-CFDI4.0-AP  DHLCFDI- AP Portal Sprint 2       Security      3\n",
       "2  DHL-CFDI4.0-AP  DHLCFDI- AP Portal Sprint 2    Testability      5\n",
       "3  DHL-CFDI4.0-AP            DHLCFDI- Sprint 1  Functionality      9"
      ]
     },
     "execution_count": 10,
     "metadata": {},
     "output_type": "execute_result"
    }
   ],
   "source": [
    "df_bugs_defect_type=df_all_bugs.groupby([\"Project\",\"Sprint_Name\", \"Defect_Type\"])[\"Defect_Type\"].agg(count= \"count\").reset_index()\n",
    "df_bugs_defect_type"
   ]
  },
  {
   "cell_type": "code",
   "execution_count": 11,
   "metadata": {},
   "outputs": [
    {
     "data": {
      "application/vnd.plotly.v1+json": {
       "config": {
        "plotlyServerURL": "https://plot.ly"
       },
       "data": [
        {
         "domain": {
          "x": [
           0,
           1
          ],
          "y": [
           0,
           1
          ]
         },
         "hole": 0.3,
         "hovertemplate": "Defect_Type=%{label}<br>count=%{value}<extra></extra>",
         "labels": [
          "Functionality",
          "Security",
          "Testability",
          "Functionality"
         ],
         "legendgroup": "",
         "name": "",
         "showlegend": true,
         "textinfo": "percent+label",
         "textposition": "inside",
         "type": "pie",
         "values": [
          2,
          3,
          5,
          9
         ]
        }
       ],
       "layout": {
        "legend": {
         "tracegroupgap": 0
        },
        "template": {
         "data": {
          "bar": [
           {
            "error_x": {
             "color": "#2a3f5f"
            },
            "error_y": {
             "color": "#2a3f5f"
            },
            "marker": {
             "line": {
              "color": "#E5ECF6",
              "width": 0.5
             },
             "pattern": {
              "fillmode": "overlay",
              "size": 10,
              "solidity": 0.2
             }
            },
            "type": "bar"
           }
          ],
          "barpolar": [
           {
            "marker": {
             "line": {
              "color": "#E5ECF6",
              "width": 0.5
             },
             "pattern": {
              "fillmode": "overlay",
              "size": 10,
              "solidity": 0.2
             }
            },
            "type": "barpolar"
           }
          ],
          "carpet": [
           {
            "aaxis": {
             "endlinecolor": "#2a3f5f",
             "gridcolor": "white",
             "linecolor": "white",
             "minorgridcolor": "white",
             "startlinecolor": "#2a3f5f"
            },
            "baxis": {
             "endlinecolor": "#2a3f5f",
             "gridcolor": "white",
             "linecolor": "white",
             "minorgridcolor": "white",
             "startlinecolor": "#2a3f5f"
            },
            "type": "carpet"
           }
          ],
          "choropleth": [
           {
            "colorbar": {
             "outlinewidth": 0,
             "ticks": ""
            },
            "type": "choropleth"
           }
          ],
          "contour": [
           {
            "colorbar": {
             "outlinewidth": 0,
             "ticks": ""
            },
            "colorscale": [
             [
              0,
              "#0d0887"
             ],
             [
              0.1111111111111111,
              "#46039f"
             ],
             [
              0.2222222222222222,
              "#7201a8"
             ],
             [
              0.3333333333333333,
              "#9c179e"
             ],
             [
              0.4444444444444444,
              "#bd3786"
             ],
             [
              0.5555555555555556,
              "#d8576b"
             ],
             [
              0.6666666666666666,
              "#ed7953"
             ],
             [
              0.7777777777777778,
              "#fb9f3a"
             ],
             [
              0.8888888888888888,
              "#fdca26"
             ],
             [
              1,
              "#f0f921"
             ]
            ],
            "type": "contour"
           }
          ],
          "contourcarpet": [
           {
            "colorbar": {
             "outlinewidth": 0,
             "ticks": ""
            },
            "type": "contourcarpet"
           }
          ],
          "heatmap": [
           {
            "colorbar": {
             "outlinewidth": 0,
             "ticks": ""
            },
            "colorscale": [
             [
              0,
              "#0d0887"
             ],
             [
              0.1111111111111111,
              "#46039f"
             ],
             [
              0.2222222222222222,
              "#7201a8"
             ],
             [
              0.3333333333333333,
              "#9c179e"
             ],
             [
              0.4444444444444444,
              "#bd3786"
             ],
             [
              0.5555555555555556,
              "#d8576b"
             ],
             [
              0.6666666666666666,
              "#ed7953"
             ],
             [
              0.7777777777777778,
              "#fb9f3a"
             ],
             [
              0.8888888888888888,
              "#fdca26"
             ],
             [
              1,
              "#f0f921"
             ]
            ],
            "type": "heatmap"
           }
          ],
          "heatmapgl": [
           {
            "colorbar": {
             "outlinewidth": 0,
             "ticks": ""
            },
            "colorscale": [
             [
              0,
              "#0d0887"
             ],
             [
              0.1111111111111111,
              "#46039f"
             ],
             [
              0.2222222222222222,
              "#7201a8"
             ],
             [
              0.3333333333333333,
              "#9c179e"
             ],
             [
              0.4444444444444444,
              "#bd3786"
             ],
             [
              0.5555555555555556,
              "#d8576b"
             ],
             [
              0.6666666666666666,
              "#ed7953"
             ],
             [
              0.7777777777777778,
              "#fb9f3a"
             ],
             [
              0.8888888888888888,
              "#fdca26"
             ],
             [
              1,
              "#f0f921"
             ]
            ],
            "type": "heatmapgl"
           }
          ],
          "histogram": [
           {
            "marker": {
             "pattern": {
              "fillmode": "overlay",
              "size": 10,
              "solidity": 0.2
             }
            },
            "type": "histogram"
           }
          ],
          "histogram2d": [
           {
            "colorbar": {
             "outlinewidth": 0,
             "ticks": ""
            },
            "colorscale": [
             [
              0,
              "#0d0887"
             ],
             [
              0.1111111111111111,
              "#46039f"
             ],
             [
              0.2222222222222222,
              "#7201a8"
             ],
             [
              0.3333333333333333,
              "#9c179e"
             ],
             [
              0.4444444444444444,
              "#bd3786"
             ],
             [
              0.5555555555555556,
              "#d8576b"
             ],
             [
              0.6666666666666666,
              "#ed7953"
             ],
             [
              0.7777777777777778,
              "#fb9f3a"
             ],
             [
              0.8888888888888888,
              "#fdca26"
             ],
             [
              1,
              "#f0f921"
             ]
            ],
            "type": "histogram2d"
           }
          ],
          "histogram2dcontour": [
           {
            "colorbar": {
             "outlinewidth": 0,
             "ticks": ""
            },
            "colorscale": [
             [
              0,
              "#0d0887"
             ],
             [
              0.1111111111111111,
              "#46039f"
             ],
             [
              0.2222222222222222,
              "#7201a8"
             ],
             [
              0.3333333333333333,
              "#9c179e"
             ],
             [
              0.4444444444444444,
              "#bd3786"
             ],
             [
              0.5555555555555556,
              "#d8576b"
             ],
             [
              0.6666666666666666,
              "#ed7953"
             ],
             [
              0.7777777777777778,
              "#fb9f3a"
             ],
             [
              0.8888888888888888,
              "#fdca26"
             ],
             [
              1,
              "#f0f921"
             ]
            ],
            "type": "histogram2dcontour"
           }
          ],
          "mesh3d": [
           {
            "colorbar": {
             "outlinewidth": 0,
             "ticks": ""
            },
            "type": "mesh3d"
           }
          ],
          "parcoords": [
           {
            "line": {
             "colorbar": {
              "outlinewidth": 0,
              "ticks": ""
             }
            },
            "type": "parcoords"
           }
          ],
          "pie": [
           {
            "automargin": true,
            "type": "pie"
           }
          ],
          "scatter": [
           {
            "marker": {
             "colorbar": {
              "outlinewidth": 0,
              "ticks": ""
             }
            },
            "type": "scatter"
           }
          ],
          "scatter3d": [
           {
            "line": {
             "colorbar": {
              "outlinewidth": 0,
              "ticks": ""
             }
            },
            "marker": {
             "colorbar": {
              "outlinewidth": 0,
              "ticks": ""
             }
            },
            "type": "scatter3d"
           }
          ],
          "scattercarpet": [
           {
            "marker": {
             "colorbar": {
              "outlinewidth": 0,
              "ticks": ""
             }
            },
            "type": "scattercarpet"
           }
          ],
          "scattergeo": [
           {
            "marker": {
             "colorbar": {
              "outlinewidth": 0,
              "ticks": ""
             }
            },
            "type": "scattergeo"
           }
          ],
          "scattergl": [
           {
            "marker": {
             "colorbar": {
              "outlinewidth": 0,
              "ticks": ""
             }
            },
            "type": "scattergl"
           }
          ],
          "scattermapbox": [
           {
            "marker": {
             "colorbar": {
              "outlinewidth": 0,
              "ticks": ""
             }
            },
            "type": "scattermapbox"
           }
          ],
          "scatterpolar": [
           {
            "marker": {
             "colorbar": {
              "outlinewidth": 0,
              "ticks": ""
             }
            },
            "type": "scatterpolar"
           }
          ],
          "scatterpolargl": [
           {
            "marker": {
             "colorbar": {
              "outlinewidth": 0,
              "ticks": ""
             }
            },
            "type": "scatterpolargl"
           }
          ],
          "scatterternary": [
           {
            "marker": {
             "colorbar": {
              "outlinewidth": 0,
              "ticks": ""
             }
            },
            "type": "scatterternary"
           }
          ],
          "surface": [
           {
            "colorbar": {
             "outlinewidth": 0,
             "ticks": ""
            },
            "colorscale": [
             [
              0,
              "#0d0887"
             ],
             [
              0.1111111111111111,
              "#46039f"
             ],
             [
              0.2222222222222222,
              "#7201a8"
             ],
             [
              0.3333333333333333,
              "#9c179e"
             ],
             [
              0.4444444444444444,
              "#bd3786"
             ],
             [
              0.5555555555555556,
              "#d8576b"
             ],
             [
              0.6666666666666666,
              "#ed7953"
             ],
             [
              0.7777777777777778,
              "#fb9f3a"
             ],
             [
              0.8888888888888888,
              "#fdca26"
             ],
             [
              1,
              "#f0f921"
             ]
            ],
            "type": "surface"
           }
          ],
          "table": [
           {
            "cells": {
             "fill": {
              "color": "#EBF0F8"
             },
             "line": {
              "color": "white"
             }
            },
            "header": {
             "fill": {
              "color": "#C8D4E3"
             },
             "line": {
              "color": "white"
             }
            },
            "type": "table"
           }
          ]
         },
         "layout": {
          "annotationdefaults": {
           "arrowcolor": "#2a3f5f",
           "arrowhead": 0,
           "arrowwidth": 1
          },
          "autotypenumbers": "strict",
          "coloraxis": {
           "colorbar": {
            "outlinewidth": 0,
            "ticks": ""
           }
          },
          "colorscale": {
           "diverging": [
            [
             0,
             "#8e0152"
            ],
            [
             0.1,
             "#c51b7d"
            ],
            [
             0.2,
             "#de77ae"
            ],
            [
             0.3,
             "#f1b6da"
            ],
            [
             0.4,
             "#fde0ef"
            ],
            [
             0.5,
             "#f7f7f7"
            ],
            [
             0.6,
             "#e6f5d0"
            ],
            [
             0.7,
             "#b8e186"
            ],
            [
             0.8,
             "#7fbc41"
            ],
            [
             0.9,
             "#4d9221"
            ],
            [
             1,
             "#276419"
            ]
           ],
           "sequential": [
            [
             0,
             "#0d0887"
            ],
            [
             0.1111111111111111,
             "#46039f"
            ],
            [
             0.2222222222222222,
             "#7201a8"
            ],
            [
             0.3333333333333333,
             "#9c179e"
            ],
            [
             0.4444444444444444,
             "#bd3786"
            ],
            [
             0.5555555555555556,
             "#d8576b"
            ],
            [
             0.6666666666666666,
             "#ed7953"
            ],
            [
             0.7777777777777778,
             "#fb9f3a"
            ],
            [
             0.8888888888888888,
             "#fdca26"
            ],
            [
             1,
             "#f0f921"
            ]
           ],
           "sequentialminus": [
            [
             0,
             "#0d0887"
            ],
            [
             0.1111111111111111,
             "#46039f"
            ],
            [
             0.2222222222222222,
             "#7201a8"
            ],
            [
             0.3333333333333333,
             "#9c179e"
            ],
            [
             0.4444444444444444,
             "#bd3786"
            ],
            [
             0.5555555555555556,
             "#d8576b"
            ],
            [
             0.6666666666666666,
             "#ed7953"
            ],
            [
             0.7777777777777778,
             "#fb9f3a"
            ],
            [
             0.8888888888888888,
             "#fdca26"
            ],
            [
             1,
             "#f0f921"
            ]
           ]
          },
          "colorway": [
           "#636efa",
           "#EF553B",
           "#00cc96",
           "#ab63fa",
           "#FFA15A",
           "#19d3f3",
           "#FF6692",
           "#B6E880",
           "#FF97FF",
           "#FECB52"
          ],
          "font": {
           "color": "#2a3f5f"
          },
          "geo": {
           "bgcolor": "white",
           "lakecolor": "white",
           "landcolor": "#E5ECF6",
           "showlakes": true,
           "showland": true,
           "subunitcolor": "white"
          },
          "hoverlabel": {
           "align": "left"
          },
          "hovermode": "closest",
          "mapbox": {
           "style": "light"
          },
          "paper_bgcolor": "white",
          "plot_bgcolor": "#E5ECF6",
          "polar": {
           "angularaxis": {
            "gridcolor": "white",
            "linecolor": "white",
            "ticks": ""
           },
           "bgcolor": "#E5ECF6",
           "radialaxis": {
            "gridcolor": "white",
            "linecolor": "white",
            "ticks": ""
           }
          },
          "scene": {
           "xaxis": {
            "backgroundcolor": "#E5ECF6",
            "gridcolor": "white",
            "gridwidth": 2,
            "linecolor": "white",
            "showbackground": true,
            "ticks": "",
            "zerolinecolor": "white"
           },
           "yaxis": {
            "backgroundcolor": "#E5ECF6",
            "gridcolor": "white",
            "gridwidth": 2,
            "linecolor": "white",
            "showbackground": true,
            "ticks": "",
            "zerolinecolor": "white"
           },
           "zaxis": {
            "backgroundcolor": "#E5ECF6",
            "gridcolor": "white",
            "gridwidth": 2,
            "linecolor": "white",
            "showbackground": true,
            "ticks": "",
            "zerolinecolor": "white"
           }
          },
          "shapedefaults": {
           "line": {
            "color": "#2a3f5f"
           }
          },
          "ternary": {
           "aaxis": {
            "gridcolor": "white",
            "linecolor": "white",
            "ticks": ""
           },
           "baxis": {
            "gridcolor": "white",
            "linecolor": "white",
            "ticks": ""
           },
           "bgcolor": "#E5ECF6",
           "caxis": {
            "gridcolor": "white",
            "linecolor": "white",
            "ticks": ""
           }
          },
          "title": {
           "x": 0.05
          },
          "xaxis": {
           "automargin": true,
           "gridcolor": "white",
           "linecolor": "white",
           "ticks": "",
           "title": {
            "standoff": 15
           },
           "zerolinecolor": "white",
           "zerolinewidth": 2
          },
          "yaxis": {
           "automargin": true,
           "gridcolor": "white",
           "linecolor": "white",
           "ticks": "",
           "title": {
            "standoff": 15
           },
           "zerolinecolor": "white",
           "zerolinewidth": 2
          }
         }
        },
        "title": {
         "text": "Defect_Type"
        }
       }
      }
     },
     "metadata": {},
     "output_type": "display_data"
    }
   ],
   "source": [
    "fig = px.pie(df_bugs_defect_type, values='count',\n",
    "                 names='Defect_Type', title='Defect_Type', hole=0.3)\n",
    "fig.update_traces(textposition='inside', textinfo='percent+label')\n",
    "fig.show()"
   ]
  },
  {
   "cell_type": "code",
   "execution_count": 2,
   "metadata": {},
   "outputs": [
    {
     "data": {
      "text/html": [
       "<div>\n",
       "<style scoped>\n",
       "    .dataframe tbody tr th:only-of-type {\n",
       "        vertical-align: middle;\n",
       "    }\n",
       "\n",
       "    .dataframe tbody tr th {\n",
       "        vertical-align: top;\n",
       "    }\n",
       "\n",
       "    .dataframe thead th {\n",
       "        text-align: right;\n",
       "    }\n",
       "</style>\n",
       "<table border=\"1\" class=\"dataframe\">\n",
       "  <thead>\n",
       "    <tr style=\"text-align: right;\">\n",
       "      <th></th>\n",
       "      <th>Project</th>\n",
       "      <th>Subtask_Key</th>\n",
       "      <th>Sprint_name</th>\n",
       "      <th>User</th>\n",
       "      <th>Original_estimate</th>\n",
       "      <th>TimeSpentPerUser</th>\n",
       "    </tr>\n",
       "  </thead>\n",
       "  <tbody>\n",
       "    <tr>\n",
       "      <th>0</th>\n",
       "      <td>DHL-CFDI4.0-IAS</td>\n",
       "      <td>DHLCFDIIAS-2746</td>\n",
       "      <td>DHLCFDI Sprint 1</td>\n",
       "      <td>Rubén Villanueva Méndez</td>\n",
       "      <td>16.0</td>\n",
       "      <td>16.0</td>\n",
       "    </tr>\n",
       "    <tr>\n",
       "      <th>1</th>\n",
       "      <td>DHL-CFDI4.0-IAS</td>\n",
       "      <td>DHLCFDIIAS-2747</td>\n",
       "      <td>DHLCFDI Sprint 1</td>\n",
       "      <td>Rubén Villanueva Méndez</td>\n",
       "      <td>16.0</td>\n",
       "      <td>8.0</td>\n",
       "    </tr>\n",
       "    <tr>\n",
       "      <th>2</th>\n",
       "      <td>DHL-CFDI4.0-IAS</td>\n",
       "      <td>DHLCFDIIAS-2747</td>\n",
       "      <td>DHLCFDI Sprint 1</td>\n",
       "      <td>Rubén Villanueva Méndez</td>\n",
       "      <td>16.0</td>\n",
       "      <td>2.0</td>\n",
       "    </tr>\n",
       "    <tr>\n",
       "      <th>3</th>\n",
       "      <td>DHL-CFDI4.0-IAS</td>\n",
       "      <td>DHLCFDIIAS-2747</td>\n",
       "      <td>DHLCFDI Sprint 1</td>\n",
       "      <td>Rubén Villanueva Méndez</td>\n",
       "      <td>16.0</td>\n",
       "      <td>2.0</td>\n",
       "    </tr>\n",
       "    <tr>\n",
       "      <th>4</th>\n",
       "      <td>DHL-CFDI4.0-IAS</td>\n",
       "      <td>DHLCFDIIAS-2747</td>\n",
       "      <td>DHLCFDI Sprint 1</td>\n",
       "      <td>Rubén Villanueva Méndez</td>\n",
       "      <td>16.0</td>\n",
       "      <td>4.0</td>\n",
       "    </tr>\n",
       "    <tr>\n",
       "      <th>...</th>\n",
       "      <td>...</td>\n",
       "      <td>...</td>\n",
       "      <td>...</td>\n",
       "      <td>...</td>\n",
       "      <td>...</td>\n",
       "      <td>...</td>\n",
       "    </tr>\n",
       "    <tr>\n",
       "      <th>154</th>\n",
       "      <td>DHL-CFDI4.0-IAS</td>\n",
       "      <td>DHLCFDIIAS-3113</td>\n",
       "      <td>DHLCFDI Sprint 4</td>\n",
       "      <td>Selene Estévez Gámez</td>\n",
       "      <td>4.0</td>\n",
       "      <td>1.5</td>\n",
       "    </tr>\n",
       "    <tr>\n",
       "      <th>155</th>\n",
       "      <td>DHL-CFDI4.0-IAS</td>\n",
       "      <td>DHLCFDIIAS-3122</td>\n",
       "      <td>DHLCFDI Sprint 4</td>\n",
       "      <td>smartinez</td>\n",
       "      <td>11.0</td>\n",
       "      <td>8.0</td>\n",
       "    </tr>\n",
       "    <tr>\n",
       "      <th>156</th>\n",
       "      <td>DHL-CFDI4.0-IAS</td>\n",
       "      <td>DHLCFDIIAS-3123</td>\n",
       "      <td>DHLCFDI Sprint 4</td>\n",
       "      <td>smartinez</td>\n",
       "      <td>11.0</td>\n",
       "      <td>8.0</td>\n",
       "    </tr>\n",
       "    <tr>\n",
       "      <th>157</th>\n",
       "      <td>DHL-CFDI4.0-IAS</td>\n",
       "      <td>DHLCFDIIAS-3124</td>\n",
       "      <td>DHLCFDI Sprint 4</td>\n",
       "      <td>smartinez</td>\n",
       "      <td>11.0</td>\n",
       "      <td>8.0</td>\n",
       "    </tr>\n",
       "    <tr>\n",
       "      <th>158</th>\n",
       "      <td>DHL-CFDI4.0-IAS</td>\n",
       "      <td>DHLCFDIIAS-3167</td>\n",
       "      <td>DHLCFDI Sprint 4</td>\n",
       "      <td>Selene Estévez Gámez</td>\n",
       "      <td>7.0</td>\n",
       "      <td>1.5</td>\n",
       "    </tr>\n",
       "  </tbody>\n",
       "</table>\n",
       "<p>159 rows × 6 columns</p>\n",
       "</div>"
      ],
      "text/plain": [
       "             Project      Subtask_Key       Sprint_name  \\\n",
       "0    DHL-CFDI4.0-IAS  DHLCFDIIAS-2746  DHLCFDI Sprint 1   \n",
       "1    DHL-CFDI4.0-IAS  DHLCFDIIAS-2747  DHLCFDI Sprint 1   \n",
       "2    DHL-CFDI4.0-IAS  DHLCFDIIAS-2747  DHLCFDI Sprint 1   \n",
       "3    DHL-CFDI4.0-IAS  DHLCFDIIAS-2747  DHLCFDI Sprint 1   \n",
       "4    DHL-CFDI4.0-IAS  DHLCFDIIAS-2747  DHLCFDI Sprint 1   \n",
       "..               ...              ...               ...   \n",
       "154  DHL-CFDI4.0-IAS  DHLCFDIIAS-3113  DHLCFDI Sprint 4   \n",
       "155  DHL-CFDI4.0-IAS  DHLCFDIIAS-3122  DHLCFDI Sprint 4   \n",
       "156  DHL-CFDI4.0-IAS  DHLCFDIIAS-3123  DHLCFDI Sprint 4   \n",
       "157  DHL-CFDI4.0-IAS  DHLCFDIIAS-3124  DHLCFDI Sprint 4   \n",
       "158  DHL-CFDI4.0-IAS  DHLCFDIIAS-3167  DHLCFDI Sprint 4   \n",
       "\n",
       "                        User  Original_estimate  TimeSpentPerUser  \n",
       "0    Rubén Villanueva Méndez               16.0              16.0  \n",
       "1    Rubén Villanueva Méndez               16.0               8.0  \n",
       "2    Rubén Villanueva Méndez               16.0               2.0  \n",
       "3    Rubén Villanueva Méndez               16.0               2.0  \n",
       "4    Rubén Villanueva Méndez               16.0               4.0  \n",
       "..                       ...                ...               ...  \n",
       "154     Selene Estévez Gámez                4.0               1.5  \n",
       "155                smartinez               11.0               8.0  \n",
       "156                smartinez               11.0               8.0  \n",
       "157                smartinez               11.0               8.0  \n",
       "158     Selene Estévez Gámez                7.0               1.5  \n",
       "\n",
       "[159 rows x 6 columns]"
      ]
     },
     "execution_count": 2,
     "metadata": {},
     "output_type": "execute_result"
    }
   ],
   "source": [
    "df_time_per_user = pd.read_csv(\"dfTimePerUser2.csv\")\n",
    "df_time_per_user"
   ]
  },
  {
   "cell_type": "code",
   "execution_count": 11,
   "metadata": {},
   "outputs": [
    {
     "data": {
      "text/html": [
       "<div>\n",
       "<style scoped>\n",
       "    .dataframe tbody tr th:only-of-type {\n",
       "        vertical-align: middle;\n",
       "    }\n",
       "\n",
       "    .dataframe tbody tr th {\n",
       "        vertical-align: top;\n",
       "    }\n",
       "\n",
       "    .dataframe thead th {\n",
       "        text-align: right;\n",
       "    }\n",
       "</style>\n",
       "<table border=\"1\" class=\"dataframe\">\n",
       "  <thead>\n",
       "    <tr style=\"text-align: right;\">\n",
       "      <th></th>\n",
       "      <th>Project</th>\n",
       "      <th>Sprint_name</th>\n",
       "      <th>User</th>\n",
       "      <th>Original_estimate</th>\n",
       "      <th>TimeSpentPerUser</th>\n",
       "    </tr>\n",
       "  </thead>\n",
       "  <tbody>\n",
       "    <tr>\n",
       "      <th>0</th>\n",
       "      <td>DHL-CFDI4.0-IAS</td>\n",
       "      <td>DHLCFDI Sprint 1</td>\n",
       "      <td>Laura Rojas Huitrón</td>\n",
       "      <td>128.0</td>\n",
       "      <td>72.050000</td>\n",
       "    </tr>\n",
       "    <tr>\n",
       "      <th>1</th>\n",
       "      <td>DHL-CFDI4.0-IAS</td>\n",
       "      <td>DHLCFDI Sprint 1</td>\n",
       "      <td>Rubén Villanueva Méndez</td>\n",
       "      <td>248.0</td>\n",
       "      <td>106.000000</td>\n",
       "    </tr>\n",
       "    <tr>\n",
       "      <th>2</th>\n",
       "      <td>DHL-CFDI4.0-IAS</td>\n",
       "      <td>DHLCFDI Sprint 1</td>\n",
       "      <td>smartinez</td>\n",
       "      <td>0.0</td>\n",
       "      <td>4.000000</td>\n",
       "    </tr>\n",
       "    <tr>\n",
       "      <th>3</th>\n",
       "      <td>DHL-CFDI4.0-IAS</td>\n",
       "      <td>DHLCFDI Sprint 2</td>\n",
       "      <td>Laura Rojas Huitrón</td>\n",
       "      <td>103.0</td>\n",
       "      <td>55.466667</td>\n",
       "    </tr>\n",
       "    <tr>\n",
       "      <th>4</th>\n",
       "      <td>DHL-CFDI4.0-IAS</td>\n",
       "      <td>DHLCFDI Sprint 2</td>\n",
       "      <td>Rubén Villanueva Méndez</td>\n",
       "      <td>119.0</td>\n",
       "      <td>72.000000</td>\n",
       "    </tr>\n",
       "    <tr>\n",
       "      <th>5</th>\n",
       "      <td>DHL-CFDI4.0-IAS</td>\n",
       "      <td>DHLCFDI Sprint 2</td>\n",
       "      <td>Selene Estévez Gámez</td>\n",
       "      <td>12.0</td>\n",
       "      <td>18.500000</td>\n",
       "    </tr>\n",
       "    <tr>\n",
       "      <th>6</th>\n",
       "      <td>DHL-CFDI4.0-IAS</td>\n",
       "      <td>DHLCFDI Sprint 2</td>\n",
       "      <td>smartinez</td>\n",
       "      <td>0.0</td>\n",
       "      <td>103.000000</td>\n",
       "    </tr>\n",
       "    <tr>\n",
       "      <th>7</th>\n",
       "      <td>DHL-CFDI4.0-IAS</td>\n",
       "      <td>DHLCFDI Sprint 3</td>\n",
       "      <td>Laura Rojas Huitrón</td>\n",
       "      <td>110.0</td>\n",
       "      <td>72.000000</td>\n",
       "    </tr>\n",
       "    <tr>\n",
       "      <th>8</th>\n",
       "      <td>DHL-CFDI4.0-IAS</td>\n",
       "      <td>DHLCFDI Sprint 3</td>\n",
       "      <td>Rubén Villanueva Méndez</td>\n",
       "      <td>204.0</td>\n",
       "      <td>160.000000</td>\n",
       "    </tr>\n",
       "    <tr>\n",
       "      <th>9</th>\n",
       "      <td>DHL-CFDI4.0-IAS</td>\n",
       "      <td>DHLCFDI Sprint 3</td>\n",
       "      <td>Selene Estévez Gámez</td>\n",
       "      <td>113.0</td>\n",
       "      <td>50.500000</td>\n",
       "    </tr>\n",
       "    <tr>\n",
       "      <th>10</th>\n",
       "      <td>DHL-CFDI4.0-IAS</td>\n",
       "      <td>DHLCFDI Sprint 3</td>\n",
       "      <td>smartinez</td>\n",
       "      <td>59.0</td>\n",
       "      <td>55.000000</td>\n",
       "    </tr>\n",
       "    <tr>\n",
       "      <th>11</th>\n",
       "      <td>DHL-CFDI4.0-IAS</td>\n",
       "      <td>DHLCFDI Sprint 4</td>\n",
       "      <td>Selene Estévez Gámez</td>\n",
       "      <td>12.0</td>\n",
       "      <td>4.000000</td>\n",
       "    </tr>\n",
       "    <tr>\n",
       "      <th>12</th>\n",
       "      <td>DHL-CFDI4.0-IAS</td>\n",
       "      <td>DHLCFDI Sprint 4</td>\n",
       "      <td>smartinez</td>\n",
       "      <td>33.0</td>\n",
       "      <td>24.000000</td>\n",
       "    </tr>\n",
       "  </tbody>\n",
       "</table>\n",
       "</div>"
      ],
      "text/plain": [
       "            Project       Sprint_name                     User  \\\n",
       "0   DHL-CFDI4.0-IAS  DHLCFDI Sprint 1      Laura Rojas Huitrón   \n",
       "1   DHL-CFDI4.0-IAS  DHLCFDI Sprint 1  Rubén Villanueva Méndez   \n",
       "2   DHL-CFDI4.0-IAS  DHLCFDI Sprint 1                smartinez   \n",
       "3   DHL-CFDI4.0-IAS  DHLCFDI Sprint 2      Laura Rojas Huitrón   \n",
       "4   DHL-CFDI4.0-IAS  DHLCFDI Sprint 2  Rubén Villanueva Méndez   \n",
       "5   DHL-CFDI4.0-IAS  DHLCFDI Sprint 2     Selene Estévez Gámez   \n",
       "6   DHL-CFDI4.0-IAS  DHLCFDI Sprint 2                smartinez   \n",
       "7   DHL-CFDI4.0-IAS  DHLCFDI Sprint 3      Laura Rojas Huitrón   \n",
       "8   DHL-CFDI4.0-IAS  DHLCFDI Sprint 3  Rubén Villanueva Méndez   \n",
       "9   DHL-CFDI4.0-IAS  DHLCFDI Sprint 3     Selene Estévez Gámez   \n",
       "10  DHL-CFDI4.0-IAS  DHLCFDI Sprint 3                smartinez   \n",
       "11  DHL-CFDI4.0-IAS  DHLCFDI Sprint 4     Selene Estévez Gámez   \n",
       "12  DHL-CFDI4.0-IAS  DHLCFDI Sprint 4                smartinez   \n",
       "\n",
       "    Original_estimate  TimeSpentPerUser  \n",
       "0               128.0         72.050000  \n",
       "1               248.0        106.000000  \n",
       "2                 0.0          4.000000  \n",
       "3               103.0         55.466667  \n",
       "4               119.0         72.000000  \n",
       "5                12.0         18.500000  \n",
       "6                 0.0        103.000000  \n",
       "7               110.0         72.000000  \n",
       "8               204.0        160.000000  \n",
       "9               113.0         50.500000  \n",
       "10               59.0         55.000000  \n",
       "11               12.0          4.000000  \n",
       "12               33.0         24.000000  "
      ]
     },
     "execution_count": 11,
     "metadata": {},
     "output_type": "execute_result"
    }
   ],
   "source": [
    "# df_temp2=df_time_per_user.groupby([\"Project\",\"Sprint_name\", \"User\", \"Original_estimate\", \"TimeSpent\"]).agg({'Original_estimate':'sum','TimeSpent':'sum'})\n",
    "# df_temp2=df_time_per_user.groupby([\"Project\",\"Sprint_name\", \"User\", \"Original_estimate\", \"TimeSpent\"]).sum()\n",
    "df_temp2=df_time_per_user.groupby(by=['Project','Sprint_name', 'User']).sum().reset_index()\n",
    "df_temp2"
   ]
  },
  {
   "cell_type": "code",
   "execution_count": 5,
   "metadata": {},
   "outputs": [
    {
     "data": {
      "text/html": [
       "<div>\n",
       "<style scoped>\n",
       "    .dataframe tbody tr th:only-of-type {\n",
       "        vertical-align: middle;\n",
       "    }\n",
       "\n",
       "    .dataframe tbody tr th {\n",
       "        vertical-align: top;\n",
       "    }\n",
       "\n",
       "    .dataframe thead th {\n",
       "        text-align: right;\n",
       "    }\n",
       "</style>\n",
       "<table border=\"1\" class=\"dataframe\">\n",
       "  <thead>\n",
       "    <tr style=\"text-align: right;\">\n",
       "      <th></th>\n",
       "      <th>project</th>\n",
       "      <th>sprint</th>\n",
       "      <th>task_id</th>\n",
       "      <th>assignee</th>\n",
       "      <th>original_estimate</th>\n",
       "    </tr>\n",
       "  </thead>\n",
       "  <tbody>\n",
       "    <tr>\n",
       "      <th>0</th>\n",
       "      <td>DHL-CFDI4.0-IAS</td>\n",
       "      <td>DHLCFDI Sprint 4</td>\n",
       "      <td>DHLCFDIIAS-3179</td>\n",
       "      <td>Assigneed</td>\n",
       "      <td>7.0</td>\n",
       "    </tr>\n",
       "    <tr>\n",
       "      <th>1</th>\n",
       "      <td>DHL-CFDI4.0-IAS</td>\n",
       "      <td>DHLCFDI Sprint 4</td>\n",
       "      <td>DHLCFDIIAS-3178</td>\n",
       "      <td>Assigneed</td>\n",
       "      <td>22.0</td>\n",
       "    </tr>\n",
       "    <tr>\n",
       "      <th>2</th>\n",
       "      <td>DHL-CFDI4.0-IAS</td>\n",
       "      <td>DHLCFDI Sprint 4</td>\n",
       "      <td>DHLCFDIIAS-3177</td>\n",
       "      <td>Assigneed</td>\n",
       "      <td>22.0</td>\n",
       "    </tr>\n",
       "    <tr>\n",
       "      <th>3</th>\n",
       "      <td>DHL-CFDI4.0-IAS</td>\n",
       "      <td>DHLCFDI Sprint 4</td>\n",
       "      <td>DHLCFDIIAS-3176</td>\n",
       "      <td>Assigneed</td>\n",
       "      <td>22.0</td>\n",
       "    </tr>\n",
       "    <tr>\n",
       "      <th>4</th>\n",
       "      <td>DHL-CFDI4.0-IAS</td>\n",
       "      <td>DHLCFDI Sprint 4</td>\n",
       "      <td>DHLCFDIIAS-3175</td>\n",
       "      <td>Assigneed</td>\n",
       "      <td>11.0</td>\n",
       "    </tr>\n",
       "    <tr>\n",
       "      <th>...</th>\n",
       "      <td>...</td>\n",
       "      <td>...</td>\n",
       "      <td>...</td>\n",
       "      <td>...</td>\n",
       "      <td>...</td>\n",
       "    </tr>\n",
       "    <tr>\n",
       "      <th>586</th>\n",
       "      <td>DHL-CFDI4.0-IAS</td>\n",
       "      <td>DHLCFDI Sprint 2</td>\n",
       "      <td>DHLCFDIIAS-2748</td>\n",
       "      <td>Assigneed</td>\n",
       "      <td>16.0</td>\n",
       "    </tr>\n",
       "    <tr>\n",
       "      <th>587</th>\n",
       "      <td>DHL-CFDI4.0-IAS</td>\n",
       "      <td>DHLCFDI Sprint 1</td>\n",
       "      <td>DHLCFDIIAS-2747</td>\n",
       "      <td>Assigneed</td>\n",
       "      <td>16.0</td>\n",
       "    </tr>\n",
       "    <tr>\n",
       "      <th>588</th>\n",
       "      <td>DHL-CFDI4.0-IAS</td>\n",
       "      <td>DHLCFDI Sprint 2</td>\n",
       "      <td>DHLCFDIIAS-2747</td>\n",
       "      <td>Assigneed</td>\n",
       "      <td>16.0</td>\n",
       "    </tr>\n",
       "    <tr>\n",
       "      <th>589</th>\n",
       "      <td>DHL-CFDI4.0-IAS</td>\n",
       "      <td>DHLCFDI Sprint 1</td>\n",
       "      <td>DHLCFDIIAS-2746</td>\n",
       "      <td>Assigneed</td>\n",
       "      <td>16.0</td>\n",
       "    </tr>\n",
       "    <tr>\n",
       "      <th>590</th>\n",
       "      <td>DHL-CFDI4.0-IAS</td>\n",
       "      <td>DHLCFDI Sprint 2</td>\n",
       "      <td>DHLCFDIIAS-2746</td>\n",
       "      <td>Assigneed</td>\n",
       "      <td>16.0</td>\n",
       "    </tr>\n",
       "  </tbody>\n",
       "</table>\n",
       "<p>591 rows × 5 columns</p>\n",
       "</div>"
      ],
      "text/plain": [
       "             project            sprint          task_id   assignee  \\\n",
       "0    DHL-CFDI4.0-IAS  DHLCFDI Sprint 4  DHLCFDIIAS-3179  Assigneed   \n",
       "1    DHL-CFDI4.0-IAS  DHLCFDI Sprint 4  DHLCFDIIAS-3178  Assigneed   \n",
       "2    DHL-CFDI4.0-IAS  DHLCFDI Sprint 4  DHLCFDIIAS-3177  Assigneed   \n",
       "3    DHL-CFDI4.0-IAS  DHLCFDI Sprint 4  DHLCFDIIAS-3176  Assigneed   \n",
       "4    DHL-CFDI4.0-IAS  DHLCFDI Sprint 4  DHLCFDIIAS-3175  Assigneed   \n",
       "..               ...               ...              ...        ...   \n",
       "586  DHL-CFDI4.0-IAS  DHLCFDI Sprint 2  DHLCFDIIAS-2748  Assigneed   \n",
       "587  DHL-CFDI4.0-IAS  DHLCFDI Sprint 1  DHLCFDIIAS-2747  Assigneed   \n",
       "588  DHL-CFDI4.0-IAS  DHLCFDI Sprint 2  DHLCFDIIAS-2747  Assigneed   \n",
       "589  DHL-CFDI4.0-IAS  DHLCFDI Sprint 1  DHLCFDIIAS-2746  Assigneed   \n",
       "590  DHL-CFDI4.0-IAS  DHLCFDI Sprint 2  DHLCFDIIAS-2746  Assigneed   \n",
       "\n",
       "     original_estimate  \n",
       "0                  7.0  \n",
       "1                 22.0  \n",
       "2                 22.0  \n",
       "3                 22.0  \n",
       "4                 11.0  \n",
       "..                 ...  \n",
       "586               16.0  \n",
       "587               16.0  \n",
       "588               16.0  \n",
       "589               16.0  \n",
       "590               16.0  \n",
       "\n",
       "[591 rows x 5 columns]"
      ]
     },
     "execution_count": 5,
     "metadata": {},
     "output_type": "execute_result"
    }
   ],
   "source": [
    "df_assignee = pd.read_csv(\"dfAssignee.csv\")\n",
    "df_assignee"
   ]
  },
  {
   "cell_type": "code",
   "execution_count": 24,
   "metadata": {},
   "outputs": [
    {
     "data": {
      "text/html": [
       "<div>\n",
       "<style scoped>\n",
       "    .dataframe tbody tr th:only-of-type {\n",
       "        vertical-align: middle;\n",
       "    }\n",
       "\n",
       "    .dataframe tbody tr th {\n",
       "        vertical-align: top;\n",
       "    }\n",
       "\n",
       "    .dataframe thead th {\n",
       "        text-align: right;\n",
       "    }\n",
       "</style>\n",
       "<table border=\"1\" class=\"dataframe\">\n",
       "  <thead>\n",
       "    <tr style=\"text-align: right;\">\n",
       "      <th></th>\n",
       "      <th>project</th>\n",
       "      <th>sprint</th>\n",
       "      <th>assignee</th>\n",
       "      <th>sum</th>\n",
       "    </tr>\n",
       "  </thead>\n",
       "  <tbody>\n",
       "    <tr>\n",
       "      <th>1</th>\n",
       "      <td>DHL-CFDI4.0-IAS</td>\n",
       "      <td>DHLCFDI Sprint 1</td>\n",
       "      <td>Assigneed</td>\n",
       "      <td>376.0</td>\n",
       "    </tr>\n",
       "    <tr>\n",
       "      <th>3</th>\n",
       "      <td>DHL-CFDI4.0-IAS</td>\n",
       "      <td>DHLCFDI Sprint 2</td>\n",
       "      <td>Assigneed</td>\n",
       "      <td>632.0</td>\n",
       "    </tr>\n",
       "    <tr>\n",
       "      <th>5</th>\n",
       "      <td>DHL-CFDI4.0-IAS</td>\n",
       "      <td>DHLCFDI Sprint 3</td>\n",
       "      <td>Assigneed</td>\n",
       "      <td>1196.0</td>\n",
       "    </tr>\n",
       "    <tr>\n",
       "      <th>7</th>\n",
       "      <td>DHL-CFDI4.0-IAS</td>\n",
       "      <td>DHLCFDI Sprint 4</td>\n",
       "      <td>Assigneed</td>\n",
       "      <td>974.0</td>\n",
       "    </tr>\n",
       "    <tr>\n",
       "      <th>0</th>\n",
       "      <td>DHL-CFDI4.0-IAS</td>\n",
       "      <td>Backlog</td>\n",
       "      <td>Unassigneed</td>\n",
       "      <td>457.0</td>\n",
       "    </tr>\n",
       "    <tr>\n",
       "      <th>2</th>\n",
       "      <td>DHL-CFDI4.0-IAS</td>\n",
       "      <td>DHLCFDI Sprint 1</td>\n",
       "      <td>Unassigneed</td>\n",
       "      <td>32.0</td>\n",
       "    </tr>\n",
       "    <tr>\n",
       "      <th>4</th>\n",
       "      <td>DHL-CFDI4.0-IAS</td>\n",
       "      <td>DHLCFDI Sprint 2</td>\n",
       "      <td>Unassigneed</td>\n",
       "      <td>33.0</td>\n",
       "    </tr>\n",
       "    <tr>\n",
       "      <th>6</th>\n",
       "      <td>DHL-CFDI4.0-IAS</td>\n",
       "      <td>DHLCFDI Sprint 3</td>\n",
       "      <td>Unassigneed</td>\n",
       "      <td>34.0</td>\n",
       "    </tr>\n",
       "    <tr>\n",
       "      <th>8</th>\n",
       "      <td>DHL-CFDI4.0-IAS</td>\n",
       "      <td>DHLCFDI Sprint 4</td>\n",
       "      <td>Unassigneed</td>\n",
       "      <td>32.0</td>\n",
       "    </tr>\n",
       "  </tbody>\n",
       "</table>\n",
       "</div>"
      ],
      "text/plain": [
       "           project            sprint     assignee     sum\n",
       "1  DHL-CFDI4.0-IAS  DHLCFDI Sprint 1    Assigneed   376.0\n",
       "3  DHL-CFDI4.0-IAS  DHLCFDI Sprint 2    Assigneed   632.0\n",
       "5  DHL-CFDI4.0-IAS  DHLCFDI Sprint 3    Assigneed  1196.0\n",
       "7  DHL-CFDI4.0-IAS  DHLCFDI Sprint 4    Assigneed   974.0\n",
       "0  DHL-CFDI4.0-IAS           Backlog  Unassigneed   457.0\n",
       "2  DHL-CFDI4.0-IAS  DHLCFDI Sprint 1  Unassigneed    32.0\n",
       "4  DHL-CFDI4.0-IAS  DHLCFDI Sprint 2  Unassigneed    33.0\n",
       "6  DHL-CFDI4.0-IAS  DHLCFDI Sprint 3  Unassigneed    34.0\n",
       "8  DHL-CFDI4.0-IAS  DHLCFDI Sprint 4  Unassigneed    32.0"
      ]
     },
     "execution_count": 24,
     "metadata": {},
     "output_type": "execute_result"
    }
   ],
   "source": [
    "assignee_by_sprint = df_assignee.groupby([\"project\",\"sprint\", \"assignee\"])[\"original_estimate\"].agg(sum= \"sum\").reset_index()\n",
    "assignee_by_sprint = assignee_by_sprint.sort_values('assignee', ascending=True)\n",
    "assignee_by_sprint\n"
   ]
  },
  {
   "cell_type": "code",
   "execution_count": 25,
   "metadata": {},
   "outputs": [
    {
     "data": {
      "application/vnd.plotly.v1+json": {
       "config": {
        "plotlyServerURL": "https://plot.ly"
       },
       "data": [
        {
         "alignmentgroup": "True",
         "hovertemplate": "assignee=Assigneed<br>sprint=%{x}<br>sum=%{text}<extra></extra>",
         "legendgroup": "Assigneed",
         "marker": {
          "color": "#636efa",
          "pattern": {
           "shape": ""
          }
         },
         "name": "Assigneed",
         "offsetgroup": "Assigneed",
         "orientation": "v",
         "showlegend": true,
         "text": [
          376,
          632,
          1196,
          974
         ],
         "textposition": "auto",
         "type": "bar",
         "x": [
          "DHLCFDI Sprint 1",
          "DHLCFDI Sprint 2",
          "DHLCFDI Sprint 3",
          "DHLCFDI Sprint 4"
         ],
         "xaxis": "x",
         "y": [
          376,
          632,
          1196,
          974
         ],
         "yaxis": "y"
        },
        {
         "alignmentgroup": "True",
         "hovertemplate": "assignee=Unassigneed<br>sprint=%{x}<br>sum=%{text}<extra></extra>",
         "legendgroup": "Unassigneed",
         "marker": {
          "color": "#EF553B",
          "pattern": {
           "shape": ""
          }
         },
         "name": "Unassigneed",
         "offsetgroup": "Unassigneed",
         "orientation": "v",
         "showlegend": true,
         "text": [
          457,
          32,
          33,
          34,
          32
         ],
         "textposition": "auto",
         "type": "bar",
         "x": [
          "Backlog",
          "DHLCFDI Sprint 1",
          "DHLCFDI Sprint 2",
          "DHLCFDI Sprint 3",
          "DHLCFDI Sprint 4"
         ],
         "xaxis": "x",
         "y": [
          457,
          32,
          33,
          34,
          32
         ],
         "yaxis": "y"
        }
       ],
       "layout": {
        "barmode": "relative",
        "legend": {
         "title": {
          "text": "assignee"
         },
         "tracegroupgap": 0
        },
        "template": {
         "data": {
          "bar": [
           {
            "error_x": {
             "color": "#2a3f5f"
            },
            "error_y": {
             "color": "#2a3f5f"
            },
            "marker": {
             "line": {
              "color": "#E5ECF6",
              "width": 0.5
             },
             "pattern": {
              "fillmode": "overlay",
              "size": 10,
              "solidity": 0.2
             }
            },
            "type": "bar"
           }
          ],
          "barpolar": [
           {
            "marker": {
             "line": {
              "color": "#E5ECF6",
              "width": 0.5
             },
             "pattern": {
              "fillmode": "overlay",
              "size": 10,
              "solidity": 0.2
             }
            },
            "type": "barpolar"
           }
          ],
          "carpet": [
           {
            "aaxis": {
             "endlinecolor": "#2a3f5f",
             "gridcolor": "white",
             "linecolor": "white",
             "minorgridcolor": "white",
             "startlinecolor": "#2a3f5f"
            },
            "baxis": {
             "endlinecolor": "#2a3f5f",
             "gridcolor": "white",
             "linecolor": "white",
             "minorgridcolor": "white",
             "startlinecolor": "#2a3f5f"
            },
            "type": "carpet"
           }
          ],
          "choropleth": [
           {
            "colorbar": {
             "outlinewidth": 0,
             "ticks": ""
            },
            "type": "choropleth"
           }
          ],
          "contour": [
           {
            "colorbar": {
             "outlinewidth": 0,
             "ticks": ""
            },
            "colorscale": [
             [
              0,
              "#0d0887"
             ],
             [
              0.1111111111111111,
              "#46039f"
             ],
             [
              0.2222222222222222,
              "#7201a8"
             ],
             [
              0.3333333333333333,
              "#9c179e"
             ],
             [
              0.4444444444444444,
              "#bd3786"
             ],
             [
              0.5555555555555556,
              "#d8576b"
             ],
             [
              0.6666666666666666,
              "#ed7953"
             ],
             [
              0.7777777777777778,
              "#fb9f3a"
             ],
             [
              0.8888888888888888,
              "#fdca26"
             ],
             [
              1,
              "#f0f921"
             ]
            ],
            "type": "contour"
           }
          ],
          "contourcarpet": [
           {
            "colorbar": {
             "outlinewidth": 0,
             "ticks": ""
            },
            "type": "contourcarpet"
           }
          ],
          "heatmap": [
           {
            "colorbar": {
             "outlinewidth": 0,
             "ticks": ""
            },
            "colorscale": [
             [
              0,
              "#0d0887"
             ],
             [
              0.1111111111111111,
              "#46039f"
             ],
             [
              0.2222222222222222,
              "#7201a8"
             ],
             [
              0.3333333333333333,
              "#9c179e"
             ],
             [
              0.4444444444444444,
              "#bd3786"
             ],
             [
              0.5555555555555556,
              "#d8576b"
             ],
             [
              0.6666666666666666,
              "#ed7953"
             ],
             [
              0.7777777777777778,
              "#fb9f3a"
             ],
             [
              0.8888888888888888,
              "#fdca26"
             ],
             [
              1,
              "#f0f921"
             ]
            ],
            "type": "heatmap"
           }
          ],
          "heatmapgl": [
           {
            "colorbar": {
             "outlinewidth": 0,
             "ticks": ""
            },
            "colorscale": [
             [
              0,
              "#0d0887"
             ],
             [
              0.1111111111111111,
              "#46039f"
             ],
             [
              0.2222222222222222,
              "#7201a8"
             ],
             [
              0.3333333333333333,
              "#9c179e"
             ],
             [
              0.4444444444444444,
              "#bd3786"
             ],
             [
              0.5555555555555556,
              "#d8576b"
             ],
             [
              0.6666666666666666,
              "#ed7953"
             ],
             [
              0.7777777777777778,
              "#fb9f3a"
             ],
             [
              0.8888888888888888,
              "#fdca26"
             ],
             [
              1,
              "#f0f921"
             ]
            ],
            "type": "heatmapgl"
           }
          ],
          "histogram": [
           {
            "marker": {
             "pattern": {
              "fillmode": "overlay",
              "size": 10,
              "solidity": 0.2
             }
            },
            "type": "histogram"
           }
          ],
          "histogram2d": [
           {
            "colorbar": {
             "outlinewidth": 0,
             "ticks": ""
            },
            "colorscale": [
             [
              0,
              "#0d0887"
             ],
             [
              0.1111111111111111,
              "#46039f"
             ],
             [
              0.2222222222222222,
              "#7201a8"
             ],
             [
              0.3333333333333333,
              "#9c179e"
             ],
             [
              0.4444444444444444,
              "#bd3786"
             ],
             [
              0.5555555555555556,
              "#d8576b"
             ],
             [
              0.6666666666666666,
              "#ed7953"
             ],
             [
              0.7777777777777778,
              "#fb9f3a"
             ],
             [
              0.8888888888888888,
              "#fdca26"
             ],
             [
              1,
              "#f0f921"
             ]
            ],
            "type": "histogram2d"
           }
          ],
          "histogram2dcontour": [
           {
            "colorbar": {
             "outlinewidth": 0,
             "ticks": ""
            },
            "colorscale": [
             [
              0,
              "#0d0887"
             ],
             [
              0.1111111111111111,
              "#46039f"
             ],
             [
              0.2222222222222222,
              "#7201a8"
             ],
             [
              0.3333333333333333,
              "#9c179e"
             ],
             [
              0.4444444444444444,
              "#bd3786"
             ],
             [
              0.5555555555555556,
              "#d8576b"
             ],
             [
              0.6666666666666666,
              "#ed7953"
             ],
             [
              0.7777777777777778,
              "#fb9f3a"
             ],
             [
              0.8888888888888888,
              "#fdca26"
             ],
             [
              1,
              "#f0f921"
             ]
            ],
            "type": "histogram2dcontour"
           }
          ],
          "mesh3d": [
           {
            "colorbar": {
             "outlinewidth": 0,
             "ticks": ""
            },
            "type": "mesh3d"
           }
          ],
          "parcoords": [
           {
            "line": {
             "colorbar": {
              "outlinewidth": 0,
              "ticks": ""
             }
            },
            "type": "parcoords"
           }
          ],
          "pie": [
           {
            "automargin": true,
            "type": "pie"
           }
          ],
          "scatter": [
           {
            "marker": {
             "colorbar": {
              "outlinewidth": 0,
              "ticks": ""
             }
            },
            "type": "scatter"
           }
          ],
          "scatter3d": [
           {
            "line": {
             "colorbar": {
              "outlinewidth": 0,
              "ticks": ""
             }
            },
            "marker": {
             "colorbar": {
              "outlinewidth": 0,
              "ticks": ""
             }
            },
            "type": "scatter3d"
           }
          ],
          "scattercarpet": [
           {
            "marker": {
             "colorbar": {
              "outlinewidth": 0,
              "ticks": ""
             }
            },
            "type": "scattercarpet"
           }
          ],
          "scattergeo": [
           {
            "marker": {
             "colorbar": {
              "outlinewidth": 0,
              "ticks": ""
             }
            },
            "type": "scattergeo"
           }
          ],
          "scattergl": [
           {
            "marker": {
             "colorbar": {
              "outlinewidth": 0,
              "ticks": ""
             }
            },
            "type": "scattergl"
           }
          ],
          "scattermapbox": [
           {
            "marker": {
             "colorbar": {
              "outlinewidth": 0,
              "ticks": ""
             }
            },
            "type": "scattermapbox"
           }
          ],
          "scatterpolar": [
           {
            "marker": {
             "colorbar": {
              "outlinewidth": 0,
              "ticks": ""
             }
            },
            "type": "scatterpolar"
           }
          ],
          "scatterpolargl": [
           {
            "marker": {
             "colorbar": {
              "outlinewidth": 0,
              "ticks": ""
             }
            },
            "type": "scatterpolargl"
           }
          ],
          "scatterternary": [
           {
            "marker": {
             "colorbar": {
              "outlinewidth": 0,
              "ticks": ""
             }
            },
            "type": "scatterternary"
           }
          ],
          "surface": [
           {
            "colorbar": {
             "outlinewidth": 0,
             "ticks": ""
            },
            "colorscale": [
             [
              0,
              "#0d0887"
             ],
             [
              0.1111111111111111,
              "#46039f"
             ],
             [
              0.2222222222222222,
              "#7201a8"
             ],
             [
              0.3333333333333333,
              "#9c179e"
             ],
             [
              0.4444444444444444,
              "#bd3786"
             ],
             [
              0.5555555555555556,
              "#d8576b"
             ],
             [
              0.6666666666666666,
              "#ed7953"
             ],
             [
              0.7777777777777778,
              "#fb9f3a"
             ],
             [
              0.8888888888888888,
              "#fdca26"
             ],
             [
              1,
              "#f0f921"
             ]
            ],
            "type": "surface"
           }
          ],
          "table": [
           {
            "cells": {
             "fill": {
              "color": "#EBF0F8"
             },
             "line": {
              "color": "white"
             }
            },
            "header": {
             "fill": {
              "color": "#C8D4E3"
             },
             "line": {
              "color": "white"
             }
            },
            "type": "table"
           }
          ]
         },
         "layout": {
          "annotationdefaults": {
           "arrowcolor": "#2a3f5f",
           "arrowhead": 0,
           "arrowwidth": 1
          },
          "autotypenumbers": "strict",
          "coloraxis": {
           "colorbar": {
            "outlinewidth": 0,
            "ticks": ""
           }
          },
          "colorscale": {
           "diverging": [
            [
             0,
             "#8e0152"
            ],
            [
             0.1,
             "#c51b7d"
            ],
            [
             0.2,
             "#de77ae"
            ],
            [
             0.3,
             "#f1b6da"
            ],
            [
             0.4,
             "#fde0ef"
            ],
            [
             0.5,
             "#f7f7f7"
            ],
            [
             0.6,
             "#e6f5d0"
            ],
            [
             0.7,
             "#b8e186"
            ],
            [
             0.8,
             "#7fbc41"
            ],
            [
             0.9,
             "#4d9221"
            ],
            [
             1,
             "#276419"
            ]
           ],
           "sequential": [
            [
             0,
             "#0d0887"
            ],
            [
             0.1111111111111111,
             "#46039f"
            ],
            [
             0.2222222222222222,
             "#7201a8"
            ],
            [
             0.3333333333333333,
             "#9c179e"
            ],
            [
             0.4444444444444444,
             "#bd3786"
            ],
            [
             0.5555555555555556,
             "#d8576b"
            ],
            [
             0.6666666666666666,
             "#ed7953"
            ],
            [
             0.7777777777777778,
             "#fb9f3a"
            ],
            [
             0.8888888888888888,
             "#fdca26"
            ],
            [
             1,
             "#f0f921"
            ]
           ],
           "sequentialminus": [
            [
             0,
             "#0d0887"
            ],
            [
             0.1111111111111111,
             "#46039f"
            ],
            [
             0.2222222222222222,
             "#7201a8"
            ],
            [
             0.3333333333333333,
             "#9c179e"
            ],
            [
             0.4444444444444444,
             "#bd3786"
            ],
            [
             0.5555555555555556,
             "#d8576b"
            ],
            [
             0.6666666666666666,
             "#ed7953"
            ],
            [
             0.7777777777777778,
             "#fb9f3a"
            ],
            [
             0.8888888888888888,
             "#fdca26"
            ],
            [
             1,
             "#f0f921"
            ]
           ]
          },
          "colorway": [
           "#636efa",
           "#EF553B",
           "#00cc96",
           "#ab63fa",
           "#FFA15A",
           "#19d3f3",
           "#FF6692",
           "#B6E880",
           "#FF97FF",
           "#FECB52"
          ],
          "font": {
           "color": "#2a3f5f"
          },
          "geo": {
           "bgcolor": "white",
           "lakecolor": "white",
           "landcolor": "#E5ECF6",
           "showlakes": true,
           "showland": true,
           "subunitcolor": "white"
          },
          "hoverlabel": {
           "align": "left"
          },
          "hovermode": "closest",
          "mapbox": {
           "style": "light"
          },
          "paper_bgcolor": "white",
          "plot_bgcolor": "#E5ECF6",
          "polar": {
           "angularaxis": {
            "gridcolor": "white",
            "linecolor": "white",
            "ticks": ""
           },
           "bgcolor": "#E5ECF6",
           "radialaxis": {
            "gridcolor": "white",
            "linecolor": "white",
            "ticks": ""
           }
          },
          "scene": {
           "xaxis": {
            "backgroundcolor": "#E5ECF6",
            "gridcolor": "white",
            "gridwidth": 2,
            "linecolor": "white",
            "showbackground": true,
            "ticks": "",
            "zerolinecolor": "white"
           },
           "yaxis": {
            "backgroundcolor": "#E5ECF6",
            "gridcolor": "white",
            "gridwidth": 2,
            "linecolor": "white",
            "showbackground": true,
            "ticks": "",
            "zerolinecolor": "white"
           },
           "zaxis": {
            "backgroundcolor": "#E5ECF6",
            "gridcolor": "white",
            "gridwidth": 2,
            "linecolor": "white",
            "showbackground": true,
            "ticks": "",
            "zerolinecolor": "white"
           }
          },
          "shapedefaults": {
           "line": {
            "color": "#2a3f5f"
           }
          },
          "ternary": {
           "aaxis": {
            "gridcolor": "white",
            "linecolor": "white",
            "ticks": ""
           },
           "baxis": {
            "gridcolor": "white",
            "linecolor": "white",
            "ticks": ""
           },
           "bgcolor": "#E5ECF6",
           "caxis": {
            "gridcolor": "white",
            "linecolor": "white",
            "ticks": ""
           }
          },
          "title": {
           "x": 0.05
          },
          "xaxis": {
           "automargin": true,
           "gridcolor": "white",
           "linecolor": "white",
           "ticks": "",
           "title": {
            "standoff": 15
           },
           "zerolinecolor": "white",
           "zerolinewidth": 2
          },
          "yaxis": {
           "automargin": true,
           "gridcolor": "white",
           "linecolor": "white",
           "ticks": "",
           "title": {
            "standoff": 15
           },
           "zerolinecolor": "white",
           "zerolinewidth": 2
          }
         }
        },
        "title": {
         "text": "Long-Form Input"
        },
        "xaxis": {
         "anchor": "y",
         "domain": [
          0,
          1
         ],
         "title": {
          "text": "sprint"
         }
        },
        "yaxis": {
         "anchor": "x",
         "domain": [
          0,
          1
         ],
         "title": {
          "text": "sum"
         }
        }
       }
      }
     },
     "metadata": {},
     "output_type": "display_data"
    }
   ],
   "source": [
    "fig = px.bar(assignee_by_sprint, x=\"sprint\", y=\"sum\",text=\"sum\", color=\"assignee\", title=\"Long-Form Input\")\n",
    "fig.show()"
   ]
  }
 ],
 "metadata": {
  "interpreter": {
   "hash": "ad2bdc8ecc057115af97d19610ffacc2b4e99fae6737bb82f5d7fb13d2f2c186"
  },
  "kernelspec": {
   "display_name": "Python 3.8.5 ('base')",
   "language": "python",
   "name": "python3"
  },
  "language_info": {
   "codemirror_mode": {
    "name": "ipython",
    "version": 3
   },
   "file_extension": ".py",
   "mimetype": "text/x-python",
   "name": "python",
   "nbconvert_exporter": "python",
   "pygments_lexer": "ipython3",
   "version": "3.8.5"
  },
  "orig_nbformat": 4
 },
 "nbformat": 4,
 "nbformat_minor": 2
}
